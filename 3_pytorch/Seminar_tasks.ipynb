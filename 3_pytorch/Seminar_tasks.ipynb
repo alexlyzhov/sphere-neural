{
 "cells": [
  {
   "cell_type": "markdown",
   "metadata": {},
   "source": [
    "# Подготовительная задача 1"
   ]
  },
  {
   "cell_type": "markdown",
   "metadata": {},
   "source": [
    "Сделать из линейной регрессии nn.sequental двухслойную сеть"
   ]
  },
  {
   "cell_type": "markdown",
   "metadata": {},
   "source": [
    "# Подготовительная задача 2"
   ]
  },
  {
   "cell_type": "markdown",
   "metadata": {},
   "source": [
    "Добавить в np и torch реализации баесы"
   ]
  },
  {
   "cell_type": "markdown",
   "metadata": {},
   "source": [
    "# Подготовительная задача 3 "
   ]
  },
  {
   "cell_type": "markdown",
   "metadata": {},
   "source": [
    "В реализациях на np и разных вариантах на torch рисовать графики loss(iteration) и gradients(iterations)"
   ]
  },
  {
   "cell_type": "markdown",
   "metadata": {},
   "source": [
    "# Задача"
   ]
  },
  {
   "cell_type": "markdown",
   "metadata": {},
   "source": [
    "Повторить обучение на mnist из прошлой домашки:\n",
    " \t\n",
    "Используя структуру сети Sequental в pytorch реализовать и обучить классификатор цифр из MNIST\n",
    "\n",
    "1. Количество слоев от 1 до 4\n",
    "2. Разные размеры скрытых слоев: 5, 10, 50, 100, 300\n",
    "3. С разными функциями активации (без, ReLU, sigmoid, tanh)\n",
    "4. С разными функциями потерь (CrossEntropy, MSE)\n",
    "5. Со смещениями и без.\n",
    "\n",
    "Каждый пункт 2-3 варианта.\n",
    "\n",
    "Результат в форме отчета: скорость и качество обучения от параметров сети.\n",
    "Везде где имеет смысл нарисовать графики.\n",
    "\n",
    "Объяснить разницу в обучении с разными параметрами."
   ]
  },
  {
   "cell_type": "code",
   "execution_count": null,
   "metadata": {
    "collapsed": true
   },
   "outputs": [],
   "source": []
  }
 ],
 "metadata": {
  "kernelspec": {
   "display_name": "Python 3",
   "language": "python",
   "name": "python3"
  },
  "language_info": {
   "codemirror_mode": {
    "name": "ipython",
    "version": 3
   },
   "file_extension": ".py",
   "mimetype": "text/x-python",
   "name": "python",
   "nbconvert_exporter": "python",
   "pygments_lexer": "ipython3",
   "version": "3.6.0"
  }
 },
 "nbformat": 4,
 "nbformat_minor": 0
}
