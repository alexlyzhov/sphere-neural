{
 "cells": [
  {
   "cell_type": "code",
   "execution_count": 2,
   "metadata": {
    "collapsed": true
   },
   "outputs": [],
   "source": [
    "%matplotlib inline\n",
    "from __future__ import absolute_import\n",
    "from __future__ import division\n",
    "from __future__ import print_function\n",
    "import numpy as np\n",
    "import matplotlib.pyplot as pl\n",
    "import matplotlib.patches as mpatches"
   ]
  },
  {
   "cell_type": "code",
   "execution_count": 3,
   "metadata": {
    "collapsed": true
   },
   "outputs": [],
   "source": [
    "from sklearn.datasets import fetch_mldata\n",
    "mnist = fetch_mldata('MNIST original', data_home='~/.datasets')"
   ]
  },
  {
   "cell_type": "code",
   "execution_count": 4,
   "metadata": {
    "collapsed": true
   },
   "outputs": [],
   "source": [
    "class Module(object):\n",
    "    def __init__(self):\n",
    "        self.output = None\n",
    "        self.delta = None\n",
    "\n",
    "    def forward(self, *args, **kwargs):\n",
    "        raise NotImplementedError('implement forward pass!')\n",
    "\n",
    "    def backward(self, next_delta, lr):\n",
    "        self.update_delta(next_delta)\n",
    "        self.update_parameters(lr)\n",
    "\n",
    "    def update_delta(self, next_delta):\n",
    "        raise NotImplementedError('implement computation of gradient w.r.t. input! df(x)/dx!')\n",
    "\n",
    "    def update_parameters(self, lr):\n",
    "        pass"
   ]
  },
  {
   "cell_type": "code",
   "execution_count": 5,
   "metadata": {
    "collapsed": false
   },
   "outputs": [],
   "source": [
    "class Sequential(Module):\n",
    "    def __init__(self):\n",
    "        super(Sequential, self).__init__()\n",
    "        self.modules = []\n",
    "\n",
    "    def add(self, module):\n",
    "        self.modules.append(module)\n",
    "\n",
    "    def remove(self, module):\n",
    "        self.modules.remove(module)\n",
    "\n",
    "    def forward(self, batch, labels):\n",
    "        val = batch\n",
    "        for module in self.modules:\n",
    "            val = module.forward(val, labels)\n",
    "        return val\n",
    "\n",
    "    def backward(self, lr):\n",
    "        self.update_delta()\n",
    "        self.update_parameters(lr)\n",
    "\n",
    "    def update_delta(self):\n",
    "        delta = None\n",
    "        for module in reversed(self.modules):\n",
    "            module.update_delta(delta)\n",
    "            delta = module.delta\n",
    "            \n",
    "    def update_parameters(self, lr):\n",
    "        for module in reversed(self.modules):\n",
    "            module.update_parameters(lr)"
   ]
  },
  {
   "cell_type": "code",
   "execution_count": 6,
   "metadata": {
    "collapsed": false
   },
   "outputs": [],
   "source": [
    "batch = mnist.data[:100].copy() / 255 # for layer testing\n",
    "labels = mnist.target[:100].copy()"
   ]
  },
  {
   "cell_type": "code",
   "execution_count": 7,
   "metadata": {
    "collapsed": true
   },
   "outputs": [],
   "source": [
    "class Linear(Module): # batchsize * arbitrary indim -> batchsize * outdim\n",
    "    def __init__(self, outdim):\n",
    "        self.outdim = outdim\n",
    "        self.weight = None\n",
    "        self.bias = None\n",
    "        \n",
    "    def forward(self, X, labels):\n",
    "        self.input = X\n",
    "        indim = X.shape[1]\n",
    "        if self.weight is None:\n",
    "            self.weight = np.random.normal(0, 0.01, (indim, self.outdim))\n",
    "        if self.bias is None:\n",
    "            self.bias = np.random.normal(0, 0.01, self.outdim)\n",
    "        self.output = np.dot(X, self.weight) + self.bias\n",
    "        return self.output\n",
    "    \n",
    "    def update_delta(self, next_delta):\n",
    "        self.old_delta = next_delta\n",
    "        self.delta = self.old_delta.dot(self.weight.T)\n",
    "        self.avg_delta = self.old_delta.mean(axis = 0)\n",
    "        \n",
    "        self.bias_grad = self.avg_delta\n",
    "        \n",
    "        self.weight_grad = self.input.T.dot(self.old_delta)\n",
    "        self.weight_grad /= self.input.shape[0]\n",
    "        \n",
    "    def update_parameters(self, lr):\n",
    "        self.bias -= lr * self.bias_grad\n",
    "        self.weight -= lr * self.weight_grad\n",
    "        pass"
   ]
  },
  {
   "cell_type": "code",
   "execution_count": 8,
   "metadata": {
    "collapsed": false,
    "scrolled": true
   },
   "outputs": [
    {
     "data": {
      "text/plain": [
       "(100, 20)"
      ]
     },
     "execution_count": 8,
     "metadata": {},
     "output_type": "execute_result"
    }
   ],
   "source": [
    "outdim = 20\n",
    "lin = Linear(outdim)\n",
    "res = lin.forward(batch, labels)\n",
    "res.shape"
   ]
  },
  {
   "cell_type": "code",
   "execution_count": 9,
   "metadata": {
    "collapsed": false
   },
   "outputs": [],
   "source": [
    "class Sigmoid(Module): # arbitrary dimensions -> dimensions preserved, elementwise\n",
    "    def __init__(self):\n",
    "        pass\n",
    "    def sigmoid(self, x):\n",
    "        return 1 / (1 + np.exp(-x))\n",
    "    def forward(self, X, labels):\n",
    "        self.output = self.sigmoid(X)\n",
    "        return self.output\n",
    "    def update_delta(self, next_delta):\n",
    "        self.delta = next_delta * self.output * (1 - self.output)"
   ]
  },
  {
   "cell_type": "code",
   "execution_count": 10,
   "metadata": {
    "collapsed": false
   },
   "outputs": [
    {
     "data": {
      "text/plain": [
       "(100, 784)"
      ]
     },
     "execution_count": 10,
     "metadata": {},
     "output_type": "execute_result"
    }
   ],
   "source": [
    "sig = Sigmoid()\n",
    "res = sig.forward(batch, labels)\n",
    "res.shape"
   ]
  },
  {
   "cell_type": "code",
   "execution_count": 11,
   "metadata": {
    "collapsed": true
   },
   "outputs": [],
   "source": [
    "class Softmax(Module): # batchsize * N_classes -> dimensions preserved\n",
    "    def __init__(self):\n",
    "        pass\n",
    "    def forward(self, X, labels):\n",
    "        maxes = np.amax(X, axis = 1) # preventing overflow\n",
    "        maxes = maxes.reshape(maxes.shape[0], 1)\n",
    "        res = np.exp(X - maxes)\n",
    "        revsums = 1 / np.sum(res, axis = 1)\n",
    "        revsums = revsums.reshape(revsums.shape[0], 1)\n",
    "        self.output = revsums * res\n",
    "        return self.output\n",
    "    def update_delta(self, next_delta):\n",
    "        self.delta = next_delta * self.output * (1 - self.output)"
   ]
  },
  {
   "cell_type": "code",
   "execution_count": 12,
   "metadata": {
    "collapsed": false
   },
   "outputs": [
    {
     "data": {
      "text/plain": [
       "(100, 784)"
      ]
     },
     "execution_count": 12,
     "metadata": {},
     "output_type": "execute_result"
    }
   ],
   "source": [
    "smax = Softmax()\n",
    "res = smax.forward(batch, labels)\n",
    "res.shape"
   ]
  },
  {
   "cell_type": "code",
   "execution_count": 13,
   "metadata": {
    "collapsed": true
   },
   "outputs": [],
   "source": [
    "class Tanh(Module): # arbitrary dimensions -> dimensions preserved, elementwise\n",
    "    def __init__(self):\n",
    "        pass\n",
    "    def forward(self, X, labels):\n",
    "        self.output = np.tanh(X)\n",
    "        return self.output\n",
    "    def update_delta(self, next_delta):\n",
    "        self.delta = next_delta * (1 - self.output**2)"
   ]
  },
  {
   "cell_type": "code",
   "execution_count": 14,
   "metadata": {
    "collapsed": false
   },
   "outputs": [
    {
     "data": {
      "text/plain": [
       "(100, 784)"
      ]
     },
     "execution_count": 14,
     "metadata": {},
     "output_type": "execute_result"
    }
   ],
   "source": [
    "tanhm = Tanh()\n",
    "res = tanhm.forward(batch, labels)\n",
    "res.shape"
   ]
  },
  {
   "cell_type": "code",
   "execution_count": 15,
   "metadata": {
    "collapsed": true
   },
   "outputs": [],
   "source": [
    "class Relu(Module): # arbitrary dimensions -> dimensions preserved, elementwise\n",
    "    def __init__(self):\n",
    "        pass\n",
    "    def forward(self, X, labels):\n",
    "        self.input = X\n",
    "        self.output = X * (X > 0)\n",
    "        return self.output\n",
    "    def update_delta(self, next_delta):\n",
    "#         self.delta = next_delta.copy()\n",
    "#         print(self.delta.shape, self.input.shape)\n",
    "#         self.delta[self.input < 0] = 0\n",
    "        self.delta = next_delta * (self.input > 0)"
   ]
  },
  {
   "cell_type": "code",
   "execution_count": 16,
   "metadata": {
    "collapsed": false
   },
   "outputs": [
    {
     "data": {
      "text/plain": [
       "(100, 784)"
      ]
     },
     "execution_count": 16,
     "metadata": {},
     "output_type": "execute_result"
    }
   ],
   "source": [
    "relu = Relu()\n",
    "res = relu.forward(batch, labels)\n",
    "res.shape"
   ]
  },
  {
   "cell_type": "code",
   "execution_count": 17,
   "metadata": {
    "collapsed": true
   },
   "outputs": [],
   "source": [
    "class MSE(Module): # batchsize * N_classes, batchsize -> batchsize\n",
    "    def __init__(self):\n",
    "        pass\n",
    "    def forward(self, pred, labels):\n",
    "        self.pred = pred\n",
    "        self.labels = labels\n",
    "        squares = (pred - labels[np.newaxis].T)**2\n",
    "#         if len(squares.shape) == 1:\n",
    "#             self.output = squares\n",
    "#         else:\n",
    "#             self.output = np.mean(squares, axis = 1)\n",
    "        self.output = np.mean(squares)\n",
    "        return self.output\n",
    "    def update_delta(self, next_delta):\n",
    "        self.delta = 2 * (pred - labels[np.newaxis].T)"
   ]
  },
  {
   "cell_type": "code",
   "execution_count": 18,
   "metadata": {
    "collapsed": false
   },
   "outputs": [
    {
     "data": {
      "text/plain": [
       "9.0"
      ]
     },
     "execution_count": 18,
     "metadata": {},
     "output_type": "execute_result"
    }
   ],
   "source": [
    "mse = MSE()\n",
    "res = mse.forward(mnist.target[0:600], mnist.target[24000:24600])\n",
    "res"
   ]
  },
  {
   "cell_type": "code",
   "execution_count": 19,
   "metadata": {
    "collapsed": true
   },
   "outputs": [],
   "source": [
    "class Logsoftmax(Module): # batchsize * N_classes -> dimensions preserved\n",
    "    def __init__(self):\n",
    "        pass\n",
    "    def forward(self, X, labels):\n",
    "        self.X = X\n",
    "        self.labels = labels\n",
    "        \n",
    "        maxes = np.amax(X, axis = 1) # preventing overflow\n",
    "        maxes = maxes.reshape(maxes.shape[0], 1)\n",
    "        res = X - maxes\n",
    "        logsums = np.log(np.sum(np.exp(res), axis = 1))\n",
    "        logsums = logsums.reshape(logsums.shape[0], 1)\n",
    "        res = res - logsums\n",
    "        self.output = res\n",
    "\n",
    "#         smax = Softmax() # just to check\n",
    "#         smax_output = smax.forward(self.X, self.labels)\n",
    "#         self.output = np.log(smax_output)\n",
    "        \n",
    "        return self.output\n",
    "    def update_delta(self, next_delta):\n",
    "        smax = Softmax()\n",
    "        smax_output = smax.forward(self.X, self.labels)\n",
    "        self.delta = next_delta * (1 - smax_output) # not exactly sure it works"
   ]
  },
  {
   "cell_type": "code",
   "execution_count": 20,
   "metadata": {
    "collapsed": false
   },
   "outputs": [
    {
     "data": {
      "text/plain": [
       "(100, 784)"
      ]
     },
     "execution_count": 20,
     "metadata": {},
     "output_type": "execute_result"
    }
   ],
   "source": [
    "lsmax = Logsoftmax()\n",
    "res = lsmax.forward(batch, labels)\n",
    "res.shape"
   ]
  },
  {
   "cell_type": "code",
   "execution_count": 21,
   "metadata": {
    "collapsed": false
   },
   "outputs": [],
   "source": [
    "class NLL(Module): # batchsize * N_classes, N_classes -> batchsize\n",
    "    def __init__(self):\n",
    "        pass\n",
    "    def forward(self, pred, labels): # check\n",
    "        # option 1 (invalid?)\n",
    "#         res = np.empty((pred.shape[0]))\n",
    "#         for n in xrange(pred.shape[0]):\n",
    "#             class_n = int(labels[n])\n",
    "#             sample_res = -np.log(pred[n, class_n] + 1e-7)\n",
    "#             res[n] = sample_res\n",
    "            \n",
    "              # # option 2 (invalid?)\n",
    "#             nll = 0\n",
    "#             for i in xrange(pred.shape[1]):\n",
    "#                 if (i == self.labels[n]):\n",
    "#                     nll += np.log(pred[n, i] + 1e-7) # for stability\n",
    "#                 else:\n",
    "#                     nll += np.log(1 - pred[n, i] + 1e-7)\n",
    "#             # ...\n",
    "#             nll /= pred.shape[1]\n",
    "\n",
    "        self.pred = pred\n",
    "        self.labels = labels\n",
    "        nll = 0\n",
    "        for i in xrange(pred.shape[0]):\n",
    "            class_n = int(labels[i])\n",
    "            nll -= pred[i, class_n]\n",
    "        nll /= pred.shape[0] # average loss\n",
    "        self.output = nll\n",
    "        return self.output\n",
    "    def update_delta(self, next_delta):\n",
    "        self.delta = np.zeros_like(self.pred)\n",
    "        dec = 1 / self.delta.shape[0]\n",
    "        for i in xrange(self.delta.shape[0]):\n",
    "            class_n = int(self.labels[i])\n",
    "            self.delta[i, class_n] -= dec"
   ]
  },
  {
   "cell_type": "code",
   "execution_count": 22,
   "metadata": {
    "collapsed": false
   },
   "outputs": [
    {
     "data": {
      "text/plain": [
       "-0.24101427015233082"
      ]
     },
     "execution_count": 22,
     "metadata": {},
     "output_type": "execute_result"
    }
   ],
   "source": [
    "randlabels = mnist.target[10000:10050]\n",
    "pred = np.abs(np.random.normal(size = (50, 10)))\n",
    "pred /= pred.max()\n",
    "nll = NLL()\n",
    "res = nll.forward(pred, randlabels)\n",
    "res"
   ]
  },
  {
   "cell_type": "code",
   "execution_count": 23,
   "metadata": {
    "collapsed": true
   },
   "outputs": [],
   "source": [
    "class CrossEntropy(Module): # batchsize * N_classes, N_classes -> batchsize\n",
    "    def __init__(self):\n",
    "        pass\n",
    "    def forward(self, pred, labels):\n",
    "        self.pred = pred\n",
    "        self.labels = labels\n",
    "        lsmax = Logsoftmax()\n",
    "        nll = NLL()\n",
    "        lsmax_res = lsmax.forward(pred, labels)\n",
    "        self.output = nll.forward(lsmax_res, labels)\n",
    "        return self.output\n",
    "    \n",
    "    def update_delta(self, next_delta):\n",
    "        self.delta = np.exp(self.pred)\n",
    "        revsums = 1 / np.sum(self.delta, axis = 1)\n",
    "        revsums = revsums.reshape(revsums.shape[0], 1)\n",
    "        self.delta = revsums * self.delta\n",
    "        \n",
    "        for el in xrange(self.delta.shape[0]):\n",
    "            self.delta[el, int(self.labels[el])] -= 1"
   ]
  },
  {
   "cell_type": "code",
   "execution_count": 24,
   "metadata": {
    "collapsed": false
   },
   "outputs": [
    {
     "data": {
      "text/plain": [
       "6.9089686885190709"
      ]
     },
     "execution_count": 24,
     "metadata": {},
     "output_type": "execute_result"
    }
   ],
   "source": [
    "ce = CrossEntropy()\n",
    "res = ce.forward(batch, labels)\n",
    "res"
   ]
  },
  {
   "cell_type": "code",
   "execution_count": 25,
   "metadata": {
    "collapsed": true
   },
   "outputs": [],
   "source": [
    "# model and data"
   ]
  },
  {
   "cell_type": "code",
   "execution_count": 26,
   "metadata": {
    "collapsed": false
   },
   "outputs": [],
   "source": [
    "model = Sequential()\n",
    "lin1 = Linear(25) # empirical choice\n",
    "model.add(lin1)\n",
    "# model.add(Sigmoid())\n",
    "model.add(Tanh()) # achieves faster and deeper convergence compared to sigmoid\n",
    "# model.add(Relu())\n",
    "lin2 = Linear(10) # 10 classes for classification\n",
    "model.add(lin2)\n",
    "model.add(CrossEntropy())"
   ]
  },
  {
   "cell_type": "code",
   "execution_count": 27,
   "metadata": {
    "collapsed": true
   },
   "outputs": [],
   "source": [
    "orig_train_batch = mnist.data[:60000].copy() / 255\n",
    "orig_train_labels = mnist.target[:60000].copy()\n",
    "orig_test_batch = mnist.data[60000:70000].copy() / 255\n",
    "orig_test_labels = mnist.target[60000:70000].copy()"
   ]
  },
  {
   "cell_type": "code",
   "execution_count": 28,
   "metadata": {
    "collapsed": true
   },
   "outputs": [],
   "source": [
    "# check gradients"
   ]
  },
  {
   "cell_type": "code",
   "execution_count": 29,
   "metadata": {
    "collapsed": true
   },
   "outputs": [],
   "source": [
    "batch_size = 32\n",
    "p = np.random.randint(len(orig_train_labels), size = batch_size)\n",
    "shuf_train_batch = orig_train_batch[p, :]\n",
    "shuf_train_labels = orig_train_labels[p]"
   ]
  },
  {
   "cell_type": "code",
   "execution_count": 30,
   "metadata": {
    "collapsed": false
   },
   "outputs": [],
   "source": [
    "def check_bias(model, module, check_batch, check_labels):\n",
    "    model.forward(check_batch, check_labels)\n",
    "    model.update_delta()\n",
    "    \n",
    "    eps = 10e-4\n",
    "    # module = model.modules[modnum]\n",
    "    num_grad = np.zeros_like(module.bias_grad)\n",
    "    for i in xrange(num_grad.shape[0]):\n",
    "        module.bias[i] += eps\n",
    "        jplus = model.forward(check_batch, check_labels)\n",
    "        module.bias[i] -= 2*eps\n",
    "        jminus = model.forward(check_batch, check_labels)\n",
    "        num_grad[i] = (jplus - jminus) / (2 * eps)\n",
    "        \n",
    "        module.bias[i] += eps\n",
    "        \n",
    "#     return (num_grad - module.bias_grad)\n",
    "#     return model.modules[modnum].bias_grad\n",
    "    return np.allclose(num_grad, module.bias_grad, atol = 1e-4) # relu absolute tolerance"
   ]
  },
  {
   "cell_type": "code",
   "execution_count": 31,
   "metadata": {
    "collapsed": false
   },
   "outputs": [],
   "source": [
    "# didn't implement grad_check method in module because it depends on model.forward()\n",
    "assert check_bias(model, lin2, shuf_train_batch, shuf_train_labels) # for a two-layer network\n",
    "assert check_bias(model, lin1, shuf_train_batch, shuf_train_labels)"
   ]
  },
  {
   "cell_type": "code",
   "execution_count": 32,
   "metadata": {
    "collapsed": true
   },
   "outputs": [],
   "source": [
    "def check_weight(model, module, check_batch, check_labels):\n",
    "    model.forward(check_batch, check_labels)\n",
    "    model.update_delta()\n",
    "    # module = model.modules[modnum]\n",
    "    anal_grad = module.weight_grad\n",
    "    \n",
    "    eps = 10e-4\n",
    "    \n",
    "    num_grad = np.zeros_like(anal_grad)\n",
    "    for i in xrange(num_grad.shape[0]):\n",
    "        for j in xrange(num_grad.shape[1]):\n",
    "            module.weight[i, j] += eps\n",
    "            jplus = model.forward(check_batch, check_labels)\n",
    "            module.weight[i, j] -= 2 * eps\n",
    "            jminus = model.forward(check_batch, check_labels)\n",
    "            num_grad[i, j] = (jplus - jminus) / (2 * eps)\n",
    "        \n",
    "            module.weight[i, j] += eps\n",
    "        \n",
    "#     return num_grad - anal_grad\n",
    "    return np.allclose(num_grad, anal_grad, atol = 1e-4) # relu absolute tolerance"
   ]
  },
  {
   "cell_type": "code",
   "execution_count": 33,
   "metadata": {
    "collapsed": false
   },
   "outputs": [],
   "source": [
    "assert check_weight(model, lin2, shuf_train_batch, shuf_train_labels) # for a two-layer network\n",
    "assert check_weight(model, lin1, shuf_train_batch, shuf_train_labels)"
   ]
  },
  {
   "cell_type": "code",
   "execution_count": 34,
   "metadata": {
    "collapsed": true
   },
   "outputs": [],
   "source": [
    "# train and test"
   ]
  },
  {
   "cell_type": "code",
   "execution_count": 35,
   "metadata": {
    "collapsed": false
   },
   "outputs": [],
   "source": [
    "batch_size = 32\n",
    "iters = 10000\n",
    "losses = np.empty((iters, 2))\n",
    "norms = np.empty((iters, 4))\n",
    "lr = 0.01\n",
    "for i in xrange(iters):\n",
    "    p = np.random.randint(len(orig_train_labels), size = batch_size)\n",
    "    shuf_train_batch = orig_train_batch[p, :]\n",
    "    shuf_train_labels = orig_train_labels[p]\n",
    "    \n",
    "    p = np.random.randint(len(orig_test_labels), size = batch_size)\n",
    "    shuf_test_batch = orig_test_batch[p, :]\n",
    "    shuf_test_labels = orig_test_labels[p]\n",
    "    \n",
    "    losses[i, 0] = model.forward(shuf_train_batch, shuf_train_labels)\n",
    "    losses[i, 1] = model.forward(shuf_test_batch, shuf_test_labels)\n",
    "    \n",
    "    model.backward(lr)\n",
    "    \n",
    "    norms[i, 0] = np.linalg.norm(lin1.weight_grad, ord = np.inf)\n",
    "    norms[i, 1] = np.linalg.norm(lin1.bias_grad, ord = np.inf)\n",
    "    norms[i, 2] = np.linalg.norm(lin2.weight_grad, ord = np.inf)\n",
    "    norms[i, 3] = np.linalg.norm(lin2.bias_grad, ord = np.inf)\n",
    "#   the usual frobenius norm retsults in approximately the same values\n",
    "#   lr *= 0.9995"
   ]
  },
  {
   "cell_type": "code",
   "execution_count": 37,
   "metadata": {
    "collapsed": false
   },
   "outputs": [
    {
     "data": {
      "text/plain": [
       "<matplotlib.legend.Legend at 0x7fa5e9e3c590>"
      ]
     },
     "execution_count": 37,
     "metadata": {},
     "output_type": "execute_result"
    },
    {
     "data": {
      "image/png": "[encoded data removed]",
      "text/plain": [
       "<matplotlib.figure.Figure at 0x7fa620038410>"
      ]
     },
     "metadata": {},
     "output_type": "display_data"
    }
   ],
   "source": [
    "pl.plot(xrange(iters), losses[:, 0], 'r', xrange(iters), losses[:, 1], 'g', alpha = 0.8)\n",
    "pl.xlabel(\"Iterations\")\n",
    "pl.ylabel(\"Loss function\")\n",
    "red_patch = mpatches.Patch(color='red', label='Train loss')\n",
    "green_patch = mpatches.Patch(color='green', label='Test loss')\n",
    "pl.legend(handles=[red_patch, green_patch])"
   ]
  },
  {
   "cell_type": "code",
   "execution_count": 38,
   "metadata": {
    "collapsed": false
   },
   "outputs": [
    {
     "data": {
      "text/plain": [
       "<matplotlib.legend.Legend at 0x7fa5e9e79310>"
      ]
     },
     "execution_count": 38,
     "metadata": {},
     "output_type": "execute_result"
    },
    {
     "data": {
      "image/png": "[encoded data removed]",
      "text/plain": [
       "<matplotlib.figure.Figure at 0x7fa5e9d22b10>"
      ]
     },
     "metadata": {},
     "output_type": "display_data"
    }
   ],
   "source": [
    "pl.plot(xrange(iters), norms[:, 0], 'r', xrange(iters), norms[:, 2], 'g', alpha = 0.8)\n",
    "pl.xlabel(\"Iterations\")\n",
    "pl.ylabel(\"Weight gradient norm\")\n",
    "red_patch = mpatches.Patch(color='red', label='First layer')\n",
    "green_patch = mpatches.Patch(color='green', label='Second layer')\n",
    "pl.legend(handles=[red_patch, green_patch])"
   ]
  },
  {
   "cell_type": "code",
   "execution_count": 39,
   "metadata": {
    "collapsed": false
   },
   "outputs": [
    {
     "data": {
      "text/plain": [
       "<matplotlib.legend.Legend at 0x7fa5e9d22190>"
      ]
     },
     "execution_count": 39,
     "metadata": {},
     "output_type": "execute_result"
    },
    {
     "data": {
      "image/png": "[encoded data removed]",
      "text/plain": [
       "<matplotlib.figure.Figure at 0x7fa5ef78f250>"
      ]
     },
     "metadata": {},
     "output_type": "display_data"
    }
   ],
   "source": [
    "pl.plot(xrange(iters), norms[:, 1], 'r', xrange(iters), norms[:, 3], 'g', alpha = 0.8)\n",
    "pl.xlabel(\"Iterations\")\n",
    "pl.ylabel(\"Bias gradient norm\")\n",
    "red_patch = mpatches.Patch(color='red', label='First layer')\n",
    "green_patch = mpatches.Patch(color='green', label='Second layer')\n",
    "pl.legend(handles=[red_patch, green_patch])"
   ]
  },
  {
   "cell_type": "code",
   "execution_count": null,
   "metadata": {
    "collapsed": true
   },
   "outputs": [],
   "source": []
  }
 ],
 "metadata": {
  "kernelspec": {
   "display_name": "Python 2",
   "language": "python2",
   "name": "python2"
  },
  "language_info": {
   "codemirror_mode": {
    "name": "ipython",
    "version": 2
   },
   "file_extension": ".py",
   "mimetype": "text/x-python",
   "name": "python",
   "nbconvert_exporter": "python",
   "pygments_lexer": "ipython2",
   "version": "2.7.13"
  }
 },
 "nbformat": 4,
 "nbformat_minor": 2
}
