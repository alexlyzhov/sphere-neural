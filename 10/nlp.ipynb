{
 "cells": [
  {
   "cell_type": "code",
   "execution_count": null,
   "metadata": {
    "collapsed": true
   },
   "outputs": [],
   "source": [
    "## Семинар 10: \"Чат-боты\""
   ]
  },
  {
   "cell_type": "markdown",
   "metadata": {},
   "source": [
    "ФИО: Лыжов Александр"
   ]
  },
  {
   "cell_type": "code",
   "execution_count": 1,
   "metadata": {
    "collapsed": true
   },
   "outputs": [],
   "source": [
    "import numpy as np\n",
    "import re\n",
    "import matplotlib.pyplot as plt\n",
    "import matplotlib.ticker as ticker\n",
    "import string\n",
    "import unicodedata\n",
    "import random\n",
    "from os import listdir\n",
    "import torch\n",
    "from torch import nn\n",
    "from torch.autograd import Variable\n",
    "from torch import optim\n",
    "import torch.nn.functional as F\n",
    "%matplotlib inline"
   ]
  },
  {
   "cell_type": "markdown",
   "metadata": {},
   "source": [
    "Этот семинар посвящен чат-ботам. Вам предстоит реализовать модель Seq2Seq, обученную на субтитрах какого-нибудь фильма.\n",
    "\n",
    "При реализации задания вы можете пользоваться кодом из этого примера: <a href=https://github.com/spro/practical-pytorch/blob/master/seq2seq-translation/seq2seq-translation.ipynb>реализация машинного перевода на PyTorch</a>"
   ]
  },
  {
   "cell_type": "markdown",
   "metadata": {},
   "source": [
    "### Часть 1: подготовка данных"
   ]
  },
  {
   "cell_type": "markdown",
   "metadata": {},
   "source": [
    "Скачайте субтитры вашего любимого фильма с сайта https://www.opensubtitles.org/en и поместите их в папку с ноутбуком, назвав файл subtitles.srt"
   ]
  },
  {
   "cell_type": "markdown",
   "metadata": {},
   "source": [
    "### Чтение данных"
   ]
  },
  {
   "cell_type": "code",
   "execution_count": 2,
   "metadata": {
    "collapsed": true
   },
   "outputs": [],
   "source": [
    "def clean_line(line):\n",
    "    line = line.strip().decode('utf-8')\n",
    "    if '-->' in line or line.isalnum() or 'subtitles' in line:\n",
    "        line = u''\n",
    "    line = re.sub('<[^>]*>', '', line, flags=re.U)\n",
    "    words = re.findall(r'\\w*', line, flags=re.U)\n",
    "    words = filter(lambda x: x.isalnum(), words)\n",
    "    clean = u' '.join(words)\n",
    "    if clean.isalnum():\n",
    "        clean = u''\n",
    "    clean = clean.lower()\n",
    "    clean = re.sub(r\"([.!?])\", r\" \\1\", clean, flags=re.U)\n",
    "    clean = re.sub(r\"[^a-zA-Z.!?]+\", r\" \", clean, flags=re.U)\n",
    "    clean = clean.strip()\n",
    "    return clean"
   ]
  },
  {
   "cell_type": "code",
   "execution_count": 3,
   "metadata": {
    "collapsed": true,
    "scrolled": false
   },
   "outputs": [],
   "source": [
    "lines = []\n",
    "for filename in listdir('sub'):\n",
    "    lines.extend(open('sub/' + filename).readlines())"
   ]
  },
  {
   "cell_type": "code",
   "execution_count": 4,
   "metadata": {},
   "outputs": [
    {
     "data": {
      "text/plain": [
       "79190"
      ]
     },
     "execution_count": 4,
     "metadata": {},
     "output_type": "execute_result"
    }
   ],
   "source": [
    "len(lines)"
   ]
  },
  {
   "cell_type": "code",
   "execution_count": 5,
   "metadata": {
    "collapsed": true
   },
   "outputs": [],
   "source": [
    "lines = map(clean_line, lines)\n",
    "lines = filter(len, lines)\n",
    "lines = filter(lambda line: len(line.split(' ')) <= 9, lines)"
   ]
  },
  {
   "cell_type": "code",
   "execution_count": 6,
   "metadata": {},
   "outputs": [
    {
     "data": {
      "text/plain": [
       "24996"
      ]
     },
     "execution_count": 6,
     "metadata": {},
     "output_type": "execute_result"
    }
   ],
   "source": [
    "len(lines)"
   ]
  },
  {
   "cell_type": "code",
   "execution_count": 7,
   "metadata": {
    "scrolled": false
   },
   "outputs": [
    {
     "name": "stdout",
     "output_type": "stream",
     "text": [
      "steve i just got a weird e mail\n",
      "did you buy us airline tickets\n",
      "aw shoot it was supposed\n",
      "to be a surprise\n",
      "i wanted to thank you for letting\n",
      "me live here all this time\n",
      "so i m treating the family\n",
      "to a vacation\n",
      "steve you re so sweet\n",
      "thanks uncle steve\n"
     ]
    }
   ],
   "source": [
    "for i in range(10):\n",
    "    print lines[i]"
   ]
  },
  {
   "cell_type": "markdown",
   "metadata": {},
   "source": [
    "### Построение словаря"
   ]
  },
  {
   "cell_type": "code",
   "execution_count": 8,
   "metadata": {
    "collapsed": true
   },
   "outputs": [],
   "source": [
    "SOS_token = 0\n",
    "EOS_token = 1\n",
    "\n",
    "class Lang:\n",
    "    def __init__(self):\n",
    "        self.word2index = {}\n",
    "        self.word2count = {}\n",
    "        self.index2word = {0: \"SOS\", 1: \"EOS\"}\n",
    "        self.n_words = 2 # Count SOS and EOS\n",
    "\n",
    "    def addSentence(self, sentence):\n",
    "        for word in sentence.split(' '):\n",
    "            self.addWord(word)\n",
    "\n",
    "    def addWord(self, word):\n",
    "        if word not in self.word2index:\n",
    "            self.word2index[word] = self.n_words\n",
    "            self.index2word[self.n_words] = word\n",
    "            self.word2count[word] = 1\n",
    "            self.n_words += 1\n",
    "        else:\n",
    "            self.word2count[word] += 1"
   ]
  },
  {
   "cell_type": "code",
   "execution_count": 9,
   "metadata": {
    "collapsed": true
   },
   "outputs": [],
   "source": [
    "vocab = Lang()\n",
    "for line in lines:\n",
    "    vocab.addSentence(line)"
   ]
  },
  {
   "cell_type": "code",
   "execution_count": 10,
   "metadata": {
    "collapsed": true
   },
   "outputs": [],
   "source": [
    "def indexesFromSentence(vocab, sentence):\n",
    "    return [vocab.word2index[word] for word in sentence.split(' ')]\n",
    "\n",
    "def variableFromSentence(vocab, sentence):\n",
    "    indexes = indexesFromSentence(vocab, sentence)\n",
    "    indexes.append(EOS_token)\n",
    "    return Variable(torch.LongTensor(indexes).view(-1, 1)).cuda()\n",
    "\n",
    "def variablesFromPair(pair):\n",
    "    input_variable = variableFromSentence(vocab, pair[0])\n",
    "    target_variable = variableFromSentence(vocab, pair[1])\n",
    "    return (input_variable, target_variable)"
   ]
  },
  {
   "cell_type": "code",
   "execution_count": 11,
   "metadata": {
    "collapsed": true
   },
   "outputs": [],
   "source": [
    "pairs = zip(lines[:-1], lines[1:])"
   ]
  },
  {
   "cell_type": "code",
   "execution_count": 12,
   "metadata": {
    "scrolled": false
   },
   "outputs": [
    {
     "data": {
      "text/plain": [
       "[(u'it s', u'it s disgusting'),\n",
       " (u'it s disgusting', u'steve wasn t real'),\n",
       " (u'steve wasn t real', u'he s a real piece of shit'),\n",
       " (u'he s a real piece of shit', u'this is a big one'),\n",
       " (u'this is a big one', u'somebody probably'),\n",
       " (u'somebody probably', u'tracked it in last week'),\n",
       " (u'tracked it in last week', u'on the bottom of their shoe on'),\n",
       " (u'on the bottom of their shoe on', u'a piece of alien fruit'),\n",
       " (u'a piece of alien fruit', u'get off the high road summer'),\n",
       " (u'get off the high road summer', u'we all got pink eye because you'),\n",
       " (u'we all got pink eye because you', u'won t stop texting on the toilet'),\n",
       " (u'won t stop texting on the toilet', u'but uncle steve taught me'),\n",
       " (u'but uncle steve taught me', u'how to ride a bike'),\n",
       " (u'how to ride a bike', u'no steve put that memory'),\n",
       " (u'no steve put that memory', u'in your brain')]"
      ]
     },
     "execution_count": 12,
     "metadata": {},
     "output_type": "execute_result"
    }
   ],
   "source": [
    "pairs[50:65]"
   ]
  },
  {
   "cell_type": "code",
   "execution_count": 337,
   "metadata": {
    "collapsed": true
   },
   "outputs": [],
   "source": [
    "# variablesFromPair(vocab, pairs[2])"
   ]
  },
  {
   "cell_type": "code",
   "execution_count": 338,
   "metadata": {
    "collapsed": true
   },
   "outputs": [],
   "source": [
    "# pairs_backup = pairs[:]"
   ]
  },
  {
   "cell_type": "code",
   "execution_count": 339,
   "metadata": {
    "collapsed": true
   },
   "outputs": [],
   "source": [
    "# pairs = pairs[:50]"
   ]
  },
  {
   "cell_type": "code",
   "execution_count": 13,
   "metadata": {},
   "outputs": [],
   "source": [
    "tensors = map(variablesFromPair, pairs)"
   ]
  },
  {
   "cell_type": "code",
   "execution_count": 14,
   "metadata": {},
   "outputs": [
    {
     "name": "stdout",
     "output_type": "stream",
     "text": [
      "10\n"
     ]
    }
   ],
   "source": [
    "MAX_LENGTH = int(max([tensor[0].size()[0] for tensor in tensors]))\n",
    "print(MAX_LENGTH)"
   ]
  },
  {
   "cell_type": "code",
   "execution_count": 15,
   "metadata": {},
   "outputs": [
    {
     "data": {
      "text/plain": [
       "24995"
      ]
     },
     "execution_count": 15,
     "metadata": {},
     "output_type": "execute_result"
    }
   ],
   "source": [
    "len(pairs)"
   ]
  },
  {
   "cell_type": "markdown",
   "metadata": {},
   "source": [
    "### Часть 2: определение модели"
   ]
  },
  {
   "cell_type": "markdown",
   "metadata": {},
   "source": [
    "<i> 2.1 Реализуйте encoder </i>"
   ]
  },
  {
   "cell_type": "code",
   "execution_count": 16,
   "metadata": {
    "collapsed": true
   },
   "outputs": [],
   "source": [
    "class EncoderRNN(nn.Module):\n",
    "    def __init__(self, input_size, hidden_size, n_layers=1):\n",
    "        super(EncoderRNN, self).__init__()\n",
    "        self.n_layers = n_layers\n",
    "        self.hidden_size = hidden_size\n",
    "        \n",
    "        self.embedding = nn.Embedding(input_size, hidden_size).cuda()\n",
    "        self.gru = nn.GRU(hidden_size, hidden_size).cuda()\n",
    "        \n",
    "    def forward(self, input, hidden):\n",
    "        embedded = self.embedding(input).view(1, 1, -1)\n",
    "        output = embedded\n",
    "        for i in range(self.n_layers):\n",
    "            output, hidden = self.gru(output, hidden)\n",
    "        return output, hidden\n",
    "\n",
    "    def initHidden(self):\n",
    "        return Variable(torch.zeros(1, 1, self.hidden_size)).cuda()"
   ]
  },
  {
   "cell_type": "markdown",
   "metadata": {},
   "source": [
    "<i> 2.2 Реализуйте decoder </i>"
   ]
  },
  {
   "cell_type": "markdown",
   "metadata": {},
   "source": [
    "<i> 2.3 Реализуйте forward </i>"
   ]
  },
  {
   "cell_type": "code",
   "execution_count": 16,
   "metadata": {
    "collapsed": true
   },
   "outputs": [],
   "source": [
    "class DecoderRNN(nn.Module):\n",
    "    def __init__(self, hidden_size, output_size, n_layers=1):\n",
    "        super(DecoderRNN, self).__init__()\n",
    "        self.n_layers = n_layers\n",
    "        self.hidden_size = hidden_size\n",
    "        \n",
    "        self.embedding = nn.Embedding(output_size, hidden_size).cuda()\n",
    "        self.gru = nn.GRU(hidden_size, hidden_size).cuda()\n",
    "        self.out = nn.Linear(hidden_size, output_size).cuda()\n",
    "        self.softmax = nn.LogSoftmax().cuda()\n",
    "        \n",
    "    def forward(self, input, hidden):\n",
    "        output = self.embedding(input).view(1, 1, -1)\n",
    "        for i in range(self.n_layers):\n",
    "            output = F.relu(output)\n",
    "            output, hidden = self.gru(output, hidden)\n",
    "        output = self.softmax(self.out(output[0]))\n",
    "        return output, hidden\n",
    "\n",
    "    def initHidden(self):\n",
    "        return Variable(torch.zeros(1, 1, self.hidden_size)).cuda()"
   ]
  },
  {
   "cell_type": "code",
   "execution_count": 63,
   "metadata": {},
   "outputs": [],
   "source": [
    "class AttnDecoderRNN(nn.Module):\n",
    "    def __init__(self, hidden_size, output_size, n_layers=1, dropout_p=0.1, max_length=MAX_LENGTH):\n",
    "        super(AttnDecoderRNN, self).__init__()\n",
    "        self.hidden_size = hidden_size\n",
    "        self.output_size = output_size\n",
    "        self.n_layers = n_layers\n",
    "        self.dropout_p = dropout_p\n",
    "        self.max_length = max_length\n",
    "        \n",
    "        self.embedding = nn.Embedding(self.output_size, self.hidden_size).cuda()\n",
    "        self.attn = nn.Linear(self.hidden_size * 2, self.max_length).cuda()\n",
    "        self.attn_combine = nn.Linear(self.hidden_size * 2, self.hidden_size).cuda()\n",
    "        self.dropout = nn.Dropout(self.dropout_p).cuda()\n",
    "        self.gru = nn.GRU(self.hidden_size, self.hidden_size).cuda()\n",
    "        self.out = nn.Linear(self.hidden_size, self.output_size).cuda()\n",
    "        \n",
    "    def forward(self, input, hidden, encoder_output, encoder_outputs):\n",
    "        embedded = self.embedding(input).view(1, 1, -1)\n",
    "        embedded = self.dropout(embedded)\n",
    "        \n",
    "        attn_weights = F.softmax(self.attn(torch.cat((embedded[0], hidden[0]), 1)))\n",
    "        attn_applied = torch.bmm(attn_weights.unsqueeze(0), encoder_outputs.unsqueeze(0))\n",
    "        \n",
    "        output = torch.cat((embedded[0], attn_applied[0]), 1)\n",
    "        output = self.attn_combine(output).unsqueeze(0)\n",
    "\n",
    "        for i in range(self.n_layers):\n",
    "            output = F.relu(output)\n",
    "            output, hidden = self.gru(output, hidden)\n",
    "\n",
    "        output = F.log_softmax(self.out(output[0]))\n",
    "        return output, hidden, attn_weights\n",
    "\n",
    "    def initHidden(self):\n",
    "        return Variable(torch.zeros(1, 1, self.hidden_size)).cuda()"
   ]
  },
  {
   "cell_type": "markdown",
   "metadata": {},
   "source": [
    "### Часть 3: обучение модели\n",
    "\n",
    "<i> 3.1 Обучите модель при помощи SGD </i>"
   ]
  },
  {
   "cell_type": "code",
   "execution_count": 53,
   "metadata": {
    "collapsed": true
   },
   "outputs": [],
   "source": [
    "teacher_forcing_ratio = 0.5\n",
    "\n",
    "def train(input_variable, target_variable, encoder, decoder, encoder_optimizer, decoder_optimizer, criterion, max_length=MAX_LENGTH):\n",
    "    encoder_hidden = encoder.initHidden()\n",
    "\n",
    "    encoder_optimizer.zero_grad()\n",
    "    decoder_optimizer.zero_grad()\n",
    "\n",
    "    input_length = input_variable.size()[0]\n",
    "    target_length = target_variable.size()[0]\n",
    "    encoder_outputs = Variable(torch.zeros(max_length, encoder.hidden_size)).cuda()\n",
    "    loss = 0\n",
    "\n",
    "    for ei in range(input_length):\n",
    "        encoder_output, encoder_hidden = encoder(input_variable[ei], encoder_hidden)\n",
    "        encoder_outputs[ei] = encoder_output[0][0]\n",
    "\n",
    "    decoder_input = Variable(torch.LongTensor([[SOS_token]])).cuda()\n",
    "    decoder_hidden = encoder_hidden\n",
    "\n",
    "    use_teacher_forcing = True if random.random() < teacher_forcing_ratio else False\n",
    "    \n",
    "    if use_teacher_forcing:\n",
    "        # Teacher forcing: Feed the target as the next input\n",
    "        for di in range(target_length):\n",
    "            decoder_output, decoder_hidden, decoder_attention = decoder(decoder_input, decoder_hidden, encoder_output, encoder_outputs)\n",
    "            loss += criterion(decoder_output[0], target_variable[di])\n",
    "            decoder_input = target_variable[di] # Teacher forcing\n",
    "\n",
    "    else:\n",
    "        # Without teacher forcing: use its own predictions as the next input\n",
    "        for di in range(target_length):\n",
    "            decoder_output, decoder_hidden, decoder_attention = decoder(decoder_input, decoder_hidden, encoder_output, encoder_outputs)\n",
    "            topv, topi = decoder_output.data.topk(1)\n",
    "            ni = topi[0][0]\n",
    "            decoder_input = Variable(torch.LongTensor([[ni]])).cuda()\n",
    "            loss += criterion(decoder_output[0], target_variable[di])\n",
    "            if ni == EOS_token:\n",
    "                break\n",
    "\n",
    "    loss.backward()\n",
    "    \n",
    "    encoder_optimizer.step()\n",
    "    decoder_optimizer.step()\n",
    "    \n",
    "    return loss.data[0] / target_length"
   ]
  },
  {
   "cell_type": "code",
   "execution_count": 54,
   "metadata": {
    "collapsed": true
   },
   "outputs": [],
   "source": [
    "import time\n",
    "import math\n",
    "\n",
    "def asMinutes(s):\n",
    "    m = math.floor(s / 60)\n",
    "    s -= m * 60\n",
    "    return '%dm %ds' % (m, s)\n",
    "\n",
    "def timeSince(since, percent):\n",
    "    now = time.time()\n",
    "    s = now - since\n",
    "    if percent != 0:\n",
    "        es = s / (percent)\n",
    "    else:\n",
    "        es = 0\n",
    "    rs = es - s\n",
    "    return '%s (- %s)' % (asMinutes(s), asMinutes(rs))"
   ]
  },
  {
   "cell_type": "code",
   "execution_count": 55,
   "metadata": {
    "collapsed": true
   },
   "outputs": [],
   "source": [
    "def plot_losses(points):\n",
    "    plt.figure()\n",
    "    fig, ax = plt.subplots()\n",
    "    loc = ticker.MultipleLocator(base=0.2) # this locator puts ticks at regular intervals\n",
    "    ax.yaxis.set_major_locator(loc)\n",
    "    plt.plot(points)"
   ]
  },
  {
   "cell_type": "code",
   "execution_count": 56,
   "metadata": {
    "collapsed": true
   },
   "outputs": [],
   "source": [
    "def trainEpochs(encoder, decoder, n_epochs, print_every=1000, plot_every=100, learning_rate=0.01):\n",
    "    start = time.time()\n",
    "    losses = []\n",
    "    print_loss_total = 0 # Reset every print_every\n",
    "    plot_loss_total = 0 # Reset every plot_every\n",
    "    \n",
    "    encoder_optimizer = optim.SGD(encoder.parameters(), lr=learning_rate)\n",
    "    decoder_optimizer = optim.SGD(decoder.parameters(), lr=learning_rate)\n",
    "    training_pairs = [random.choice(tensors) for i in range(n_epochs)]\n",
    "    criterion = nn.NLLLoss()\n",
    "    \n",
    "    for epoch in range(1, n_epochs + 1):\n",
    "        training_pair = training_pairs[epoch - 1]\n",
    "        input_variable = training_pair[0]\n",
    "        target_variable = training_pair[1]\n",
    "        loss = train(input_variable, target_variable, encoder, decoder, encoder_optimizer, decoder_optimizer, criterion)\n",
    "        print_loss_total += loss\n",
    "        plot_loss_total += loss\n",
    "\n",
    "        if epoch % print_every == 0:\n",
    "            print_loss_avg = print_loss_total / print_every\n",
    "            print_loss_total = 0\n",
    "            print('%s (%d %d%%) %.4f' % (timeSince(start, epoch / n_epochs), epoch, epoch / n_epochs * 100, print_loss_avg))\n",
    "        \n",
    "        if epoch % plot_every == 0:\n",
    "            plot_loss_avg = plot_loss_total / plot_every\n",
    "            losses.append(plot_loss_avg)\n",
    "            plot_loss_total = 0\n",
    "    \n",
    "    return losses"
   ]
  },
  {
   "cell_type": "code",
   "execution_count": 59,
   "metadata": {
    "collapsed": true
   },
   "outputs": [],
   "source": [
    "hidden_size = 256 # set to 256"
   ]
  },
  {
   "cell_type": "code",
   "execution_count": 60,
   "metadata": {},
   "outputs": [],
   "source": [
    "encoder = EncoderRNN(vocab.n_words, hidden_size)"
   ]
  },
  {
   "cell_type": "code",
   "execution_count": 61,
   "metadata": {
    "collapsed": true
   },
   "outputs": [],
   "source": [
    "decoder = AttnDecoderRNN(hidden_size, vocab.n_words, 1, dropout_p=0.1)"
   ]
  },
  {
   "cell_type": "code",
   "execution_count": 48,
   "metadata": {
    "scrolled": false
   },
   "outputs": [
    {
     "name": "stdout",
     "output_type": "stream",
     "text": [
      "3m 39s (- -4m 20s) (3000 0%) 4.8078\n",
      "7m 22s (- -8m 37s) (6000 0%) 4.6991\n",
      "11m 7s (- -12m 52s) (9000 0%) 4.5920\n",
      "14m 51s (- -15m 8s) (12000 0%) 4.5163\n",
      "18m 37s (- -19m 22s) (15000 0%) 4.4919\n",
      "22m 22s (- -23m 37s) (18000 0%) 4.4164\n",
      "26m 9s (- -27m 50s) (21000 0%) 4.3905\n",
      "29m 53s (- -30m 6s) (24000 0%) 4.2994\n",
      "33m 42s (- -34m 17s) (27000 0%) 4.3254\n",
      "37m 29s (- -38m 30s) (30000 0%) 4.2971\n",
      "41m 15s (- -42m 44s) (33000 0%) 4.2118\n",
      "45m 3s (- -46m 56s) (36000 0%) 4.1706\n",
      "48m 54s (- -49m 5s) (39000 0%) 4.1460\n",
      "52m 41s (- -53m 18s) (42000 0%) 4.1043\n",
      "56m 30s (- -57m 29s) (45000 0%) 4.0779\n",
      "60m 19s (- -61m 40s) (48000 0%) 4.0487\n",
      "64m 7s (- -65m 52s) (51000 0%) 3.9795\n",
      "67m 58s (- -68m 1s) (54000 0%) 3.9945\n",
      "71m 48s (- -72m 11s) (57000 0%) 3.8785\n",
      "75m 40s (- -76m 19s) (60000 0%) 3.8894\n",
      "79m 32s (- -80m 27s) (63000 0%) 3.8233\n",
      "83m 23s (- -84m 36s) (66000 0%) 3.7896\n",
      "87m 15s (- -88m 44s) (69000 0%) 3.7683\n",
      "91m 9s (- -92m 50s) (72000 0%) 3.6963\n",
      "95m 3s (- -96m 56s) (75000 0%) 3.7032\n",
      "98m 55s (- -99m 4s) (78000 0%) 3.6214\n",
      "102m 50s (- -103m 9s) (81000 0%) 3.5721\n",
      "106m 45s (- -107m 14s) (84000 0%) 3.5535\n",
      "110m 40s (- -111m 19s) (87000 0%) 3.4782\n",
      "114m 37s (- -115m 22s) (90000 0%) 3.4891\n",
      "118m 31s (- -119m 28s) (93000 0%) 3.4197\n",
      "122m 26s (- -123m 33s) (96000 0%) 3.3955\n",
      "126m 22s (- -127m 37s) (99000 0%) 3.3335\n",
      "130m 21s (- -131m 38s) (102000 0%) 3.3031\n",
      "134m 15s (- -135m 44s) (105000 0%) 3.2556\n",
      "138m 12s (- -139m 47s) (108000 0%) 3.2031\n",
      "142m 11s (- -143m 48s) (111000 0%) 3.2065\n",
      "146m 7s (- -147m 52s) (114000 0%) 3.1685\n",
      "150m 3s (- -151m 56s) (117000 0%) 3.1037\n",
      "154m 1s (- -155m 58s) (120000 0%) 3.0652\n",
      "158m 0s (- -159m 59s) (123000 0%) 3.1244\n",
      "162m 1s (- -163m 58s) (126000 0%) 3.0505\n",
      "165m 59s (- -166m 0s) (129000 0%) 3.0193\n",
      "169m 58s (- -170m 1s) (132000 0%) 3.0558\n",
      "173m 57s (- -174m 2s) (135000 0%) 2.9837\n",
      "177m 58s (- -178m 1s) (138000 0%) 2.8564\n",
      "181m 58s (- -182m 1s) (141000 0%) 2.9237\n",
      "185m 58s (- -186m 1s) (144000 0%) 2.8714\n",
      "190m 0s (- -191m 59s) (147000 0%) 2.8200\n",
      "194m 0s (- 0m 0s) (150000 100%) 2.8417\n"
     ]
    }
   ],
   "source": [
    "losses = trainEpochs(encoder, decoder, 150000, print_every = 3000, plot_every=3000) # 75000 epochs?"
   ]
  },
  {
   "cell_type": "code",
   "execution_count": 49,
   "metadata": {},
   "outputs": [
    {
     "data": {
      "text/plain": [
       "<matplotlib.figure.Figure at 0x7f1aa9e39610>"
      ]
     },
     "metadata": {},
     "output_type": "display_data"
    },
    {
     "data": {
      "image/png": "[encoded data removed]",
      "text/plain": [
       "<matplotlib.figure.Figure at 0x7f1ab3cdce90>"
      ]
     },
     "metadata": {},
     "output_type": "display_data"
    }
   ],
   "source": [
    "plot_losses(losses)"
   ]
  },
  {
   "cell_type": "code",
   "execution_count": 51,
   "metadata": {
    "collapsed": true
   },
   "outputs": [],
   "source": [
    "# torch.save(encoder.state_dict(), 'encoder_dict')"
   ]
  },
  {
   "cell_type": "code",
   "execution_count": 52,
   "metadata": {
    "collapsed": true
   },
   "outputs": [],
   "source": [
    "# torch.save(decoder.state_dict(), 'decoder_dict')"
   ]
  },
  {
   "cell_type": "code",
   "execution_count": 21,
   "metadata": {
    "collapsed": true
   },
   "outputs": [],
   "source": [
    "encoder.load_state_dict(torch.load('encoder_dict'))"
   ]
  },
  {
   "cell_type": "code",
   "execution_count": 22,
   "metadata": {
    "collapsed": true
   },
   "outputs": [],
   "source": [
    "decoder.load_state_dict(torch.load('decoder_dict'))"
   ]
  },
  {
   "cell_type": "markdown",
   "metadata": {},
   "source": [
    "<i> 2.4 Реализуйте evaluate (на каждой итерации выбирайте наиболее вероятное слово)</i>"
   ]
  },
  {
   "cell_type": "markdown",
   "metadata": {},
   "source": [
    "### Часть 4: оценивание модели"
   ]
  },
  {
   "cell_type": "markdown",
   "metadata": {},
   "source": [
    "<i> 4.1 Продемонстрируйте ответы модели на различные предложения </i>"
   ]
  },
  {
   "cell_type": "code",
   "execution_count": 23,
   "metadata": {
    "collapsed": true
   },
   "outputs": [],
   "source": [
    "def evaluate(encoder, decoder, sentence, max_length=MAX_LENGTH):\n",
    "    input_variable = variableFromSentence(vocab, sentence)\n",
    "    input_length = input_variable.size()[0]\n",
    "    encoder_hidden = encoder.initHidden()\n",
    "    \n",
    "    encoder_outputs = Variable(torch.zeros(max_length, encoder.hidden_size)).cuda()\n",
    "    \n",
    "    for ei in range(input_length):\n",
    "        encoder_output, encoder_hidden = encoder(input_variable[ei], encoder_hidden)\n",
    "        encoder_outputs[ei] = encoder_outputs[ei] + encoder_output[0][0]\n",
    "\n",
    "    decoder_input = Variable(torch.LongTensor([[SOS_token]])).cuda() # SOS\n",
    "    decoder_hidden = encoder_hidden\n",
    "    \n",
    "    decoded_words = []\n",
    "    decoder_attentions = torch.zeros(max_length, max_length)\n",
    "    \n",
    "    for di in range(max_length):\n",
    "        decoder_output, decoder_hidden, decoder_attention = decoder(decoder_input, decoder_hidden,\n",
    "                                                                    encoder_output, encoder_outputs)\n",
    "        decoder_attentions[di] = decoder_attention.data\n",
    "        topv, topi = decoder_output.data.topk(1)\n",
    "        ni = topi[0][0]\n",
    "        if ni == EOS_token:\n",
    "            decoded_words.append('<EOS>')\n",
    "            break\n",
    "        else:\n",
    "            decoded_words.append(vocab.index2word[ni])\n",
    "        decoder_input = Variable(torch.LongTensor([[ni]])).cuda()\n",
    "    \n",
    "    return decoded_words, decoder_attentions[:di+1]"
   ]
  },
  {
   "cell_type": "code",
   "execution_count": 24,
   "metadata": {
    "collapsed": true
   },
   "outputs": [],
   "source": [
    "def evaluateRandomly(encoder, decoder, n=10):\n",
    "    for i in range(n):\n",
    "        pair = random.choice(pairs)\n",
    "        print('>', pair[0])\n",
    "        print('=', pair[1])\n",
    "        output_words, attentions = evaluate(encoder, decoder, pair[0])\n",
    "        output_sentence = ' '.join(output_words)\n",
    "        print('<', output_sentence)\n",
    "        print('')"
   ]
  },
  {
   "cell_type": "code",
   "execution_count": 53,
   "metadata": {
    "scrolled": false
   },
   "outputs": [
    {
     "name": "stdout",
     "output_type": "stream",
     "text": [
      "('>', u'we gotta be careful')\n",
      "('=', u'i lost the chance')\n",
      "('<', u'i lost the <EOS>')\n",
      "\n",
      "('>', u'a very satisfying project for')\n",
      "('=', u'people of all ages')\n",
      "('<', u'people of all ages <EOS>')\n",
      "\n",
      "('>', u'be less powerful')\n",
      "('=', u'never gonna happen though')\n",
      "('<', u'and i <EOS>')\n",
      "\n",
      "('>', u'out of the way morty')\n",
      "('=', u'morty that s one of')\n",
      "('<', u'you hey the the <EOS>')\n",
      "\n",
      "('>', u'morty jr smoking')\n",
      "('=', u'that is not okay')\n",
      "('<', u'that is a <EOS>')\n",
      "\n",
      "('>', u'infinite time lines')\n",
      "('=', u'we re not on any')\n",
      "('<', u'through me <EOS>')\n",
      "\n",
      "('>', u'plan your route accordingly')\n",
      "('=', u'and expect delays')\n",
      "('<', u'and re re <EOS>')\n",
      "\n",
      "('>', u'how this place works')\n",
      "('=', u'is there any way we could')\n",
      "('<', u'there is there any way we could <EOS>')\n",
      "\n",
      "('>', u'we were dead')\n",
      "('=', u'so we came here and')\n",
      "('<', u'no i <EOS>')\n",
      "\n",
      "('>', u'fresh start morty')\n",
      "('=', u'create a whole fresh start')\n",
      "('<', u'a whole a whole <EOS>')\n",
      "\n"
     ]
    }
   ],
   "source": [
    "evaluateRandomly(encoder, decoder)"
   ]
  },
  {
   "cell_type": "code",
   "execution_count": 28,
   "metadata": {},
   "outputs": [
    {
     "data": {
      "text/plain": [
       "[u'hey', u'you', u'know', '<EOS>']"
      ]
     },
     "execution_count": 28,
     "metadata": {},
     "output_type": "execute_result"
    }
   ],
   "source": [
    "evaluate(encoder, decoder, 'hey morty')[0]"
   ]
  },
  {
   "cell_type": "code",
   "execution_count": 34,
   "metadata": {},
   "outputs": [
    {
     "data": {
      "text/plain": [
       "[u'there', u'are', u'are', u'coming', u'and', u'they', '<EOS>']"
      ]
     },
     "execution_count": 34,
     "metadata": {},
     "output_type": "execute_result"
    }
   ],
   "source": [
    "evaluate(encoder, decoder, 'there s more')[0]"
   ]
  },
  {
   "cell_type": "code",
   "execution_count": 38,
   "metadata": {},
   "outputs": [
    {
     "data": {
      "text/plain": [
       "[u'i', u'm', u'taming', u'the', u'council', '<EOS>']"
      ]
     },
     "execution_count": 38,
     "metadata": {},
     "output_type": "execute_result"
    }
   ],
   "source": [
    "evaluate(encoder, decoder, 'time s up')[0]"
   ]
  },
  {
   "cell_type": "code",
   "execution_count": null,
   "metadata": {
    "collapsed": true
   },
   "outputs": [],
   "source": []
  }
 ],
 "metadata": {
  "kernelspec": {
   "display_name": "Python 2",
   "language": "python2",
   "name": "python2"
  },
  "language_info": {
   "codemirror_mode": {
    "name": "ipython",
    "version": 2
   },
   "file_extension": ".py",
   "mimetype": "text/x-python",
   "name": "python",
   "nbconvert_exporter": "python",
   "pygments_lexer": "ipython2",
   "version": "2.7.13"
  },
  "latex_envs": {
   "bibliofile": "biblio.bib",
   "cite_by": "apalike",
   "current_citInitial": 1,
   "eqLabelWithNumbers": true,
   "eqNumInitial": 0
  }
 },
 "nbformat": 4,
 "nbformat_minor": 1
}
