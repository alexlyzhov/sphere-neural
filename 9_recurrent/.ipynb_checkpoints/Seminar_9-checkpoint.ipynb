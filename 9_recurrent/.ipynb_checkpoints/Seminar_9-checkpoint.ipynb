{
 "cells": [
  {
   "cell_type": "code",
   "execution_count": 1,
   "metadata": {
    "collapsed": true
   },
   "outputs": [],
   "source": [
    "import numpy as np\n",
    "import pandas as pd\n",
    "from tqdm import tqdm\n",
    "from sklearn.preprocessing import MinMaxScaler\n",
    "import torch.nn\n",
    "from torch.autograd import Variable\n",
    "import matplotlib.pyplot as plt\n",
    "%matplotlib inline"
   ]
  },
  {
   "cell_type": "code",
   "execution_count": 2,
   "metadata": {
    "collapsed": true
   },
   "outputs": [],
   "source": [
    "## Задание 1"
   ]
  },
  {
   "cell_type": "markdown",
   "metadata": {},
   "source": [
    "Данные о количестве пассажиров\n",
    "\n",
    "https://datamarket.com/data/set/22u3/international-airline-passengers-monthly-totals-in-thousands-jan-49-dec-60#!ds=22u3&display=line\n",
    "\n",
    "downloaded"
   ]
  },
  {
   "cell_type": "code",
   "execution_count": 2,
   "metadata": {
    "collapsed": true
   },
   "outputs": [],
   "source": [
    "dataset = pd.read_csv('international-airline-passengers.csv', usecols=[1],\n",
    "                      delimiter=\";\", engine='python', skipfooter=3)"
   ]
  },
  {
   "cell_type": "code",
   "execution_count": 3,
   "metadata": {
    "collapsed": true
   },
   "outputs": [],
   "source": [
    "# подготовливаем данные\n",
    "dataset = dataset.values\n",
    "dataset = dataset.astype('float32')\n",
    "scaler = MinMaxScaler(feature_range=(0, 1))\n",
    "dataset = scaler.fit_transform(dataset)"
   ]
  },
  {
   "cell_type": "code",
   "execution_count": 4,
   "metadata": {},
   "outputs": [
    {
     "data": {
      "text/plain": [
       "[<matplotlib.lines.Line2D at 0x7f79b4b52c90>]"
      ]
     },
     "execution_count": 4,
     "metadata": {},
     "output_type": "execute_result"
    },
    {
     "data": {
      "image/png": "[encoded data removed]",
      "text/plain": [
       "<matplotlib.figure.Figure at 0x7f7a14a04350>"
      ]
     },
     "metadata": {},
     "output_type": "display_data"
    }
   ],
   "source": [
    "plt.plot(dataset)"
   ]
  },
  {
   "cell_type": "code",
   "execution_count": 5,
   "metadata": {},
   "outputs": [
    {
     "name": "stdout",
     "output_type": "stream",
     "text": [
      "(96, 48)\n"
     ]
    }
   ],
   "source": [
    "# разбиваем данные на train / test\n",
    "train_size = int(len(dataset) * 0.67)\n",
    "test_size = len(dataset) - train_size\n",
    "train, test = dataset[0:train_size,:], dataset[train_size:len(dataset),:]\n",
    "print(len(train), len(test))"
   ]
  },
  {
   "cell_type": "code",
   "execution_count": 6,
   "metadata": {
    "collapsed": true
   },
   "outputs": [],
   "source": [
    "# Целевая переменная - сдвинутая последовательность значений входов\n",
    "def create_dataset(dataset, look_back=1):\n",
    "    dataX, dataY = [], []\n",
    "    for i in range(len(dataset)-look_back): # remoted \"-1\"\n",
    "        a = dataset[i:(i+look_back), 0]\n",
    "        dataX.append(a[0])\n",
    "        dataY.append(dataset[i + look_back, 0])\n",
    "\n",
    "    return np.array(dataX), np.array(dataY)"
   ]
  },
  {
   "cell_type": "code",
   "execution_count": 7,
   "metadata": {
    "collapsed": true
   },
   "outputs": [],
   "source": [
    "# Пример подготовленных данных\n",
    "\n",
    "look_back = 1\n",
    "trainX, trainY = create_dataset(train, look_back)\n",
    "testX, testY = create_dataset(test, look_back)"
   ]
  },
  {
   "cell_type": "code",
   "execution_count": null,
   "metadata": {
    "collapsed": true
   },
   "outputs": [],
   "source": [
    "data = np.reshape(dataset, (dataset.shape[0])) # for plotting"
   ]
  },
  {
   "cell_type": "markdown",
   "metadata": {},
   "source": [
    "Используя torch.nn.LSTM сделать решить задачу предсказания временного ряда\n",
    "1. one to one\n",
    "2. many to many\n",
    "\n",
    "Попробовать разные размеры окон и torch.nn.GRU вместо LSTM"
   ]
  },
  {
   "cell_type": "code",
   "execution_count": 8,
   "metadata": {
    "collapsed": true
   },
   "outputs": [],
   "source": [
    "class RnnModel(torch.nn.Module):\n",
    "    def __init__(self, seq_len, num_layers, use_gru):\n",
    "        super(RnnModel, self).__init__()\n",
    "        self.use_gru = use_gru\n",
    "        if use_gru:\n",
    "            self.gru = torch.nn.GRU(input_size = 1, hidden_size = 1, num_layers = num_layers,\n",
    "                                 bias = True, batch_first = True)\n",
    "        else:\n",
    "            self.lstm = torch.nn.LSTM(input_size = 1, hidden_size = 1, num_layers = num_layers,\n",
    "                              bias = True, batch_first = True) # hidden_size == output_size == input_size\n",
    "        self.padding = torch.nn.Linear(seq_len, seq_len)\n",
    "    \n",
    "    def forward(self, x):\n",
    "        if self.use_gru:\n",
    "            out, hid = self.gru.forward(x)\n",
    "        else:\n",
    "            out, (hid, cel) = self.lstm.forward(x)\n",
    "        \n",
    "        out = out.contiguous().view(out.size(0), -1)\n",
    "        out = self.padding(out)\n",
    "        return out"
   ]
  },
  {
   "cell_type": "code",
   "execution_count": 9,
   "metadata": {
    "collapsed": true
   },
   "outputs": [],
   "source": [
    "def train_rnn(seq_len, num_layers, batchsize, iters, use_gru, loss_every):\n",
    "    model = RnnModel(seq_len, num_layers, use_gru)\n",
    "        \n",
    "    loss_f = torch.nn.MSELoss()\n",
    "    optimizer = torch.optim.Adam(model.parameters())\n",
    "    \n",
    "    losses = []\n",
    "    \n",
    "    inp = Variable(torch.zeros(batchsize, seq_len, 1), requires_grad = False)\n",
    "    tar = Variable(torch.zeros(batchsize, seq_len, 1), requires_grad = False)\n",
    "    \n",
    "    for it in tqdm(xrange(iters)):\n",
    "        indices = np.random.randint(0, trainY.shape[0] - seq_len + 1, batchsize)\n",
    "        \n",
    "        # batchsize, seq_len, hidden_size (batch_first == True)\n",
    "        inp_arr = np.array([trainX[ind:ind + seq_len] for ind in indices])\n",
    "        inp_arr = np.reshape(inp_arr, (batchsize, seq_len, 1))\n",
    "        inp.data = torch.from_numpy(inp_arr)\n",
    "        \n",
    "        tar_arr = np.array([trainY[ind:ind + seq_len] for ind in indices])\n",
    "        tar_arr = np.reshape(tar_arr, (batchsize, seq_len, 1))\n",
    "        tar.data = torch.from_numpy(tar_arr)\n",
    "\n",
    "        out = model.forward(inp)\n",
    "\n",
    "        loss = loss_f(out, tar)\n",
    "\n",
    "        optimizer.zero_grad()\n",
    "        loss.backward()\n",
    "        optimizer.step()\n",
    "        \n",
    "        # now test\n",
    "        if it % loss_every == 0:\n",
    "            test_indices = np.random.randint(0, testY.shape[0] - seq_len + 1, batchsize)\n",
    "            \n",
    "            test_inp_arr = np.array([testX[ind:ind + seq_len] for ind in test_indices])\n",
    "            test_inp_arr = np.reshape(test_inp_arr, (batchsize, seq_len, 1))\n",
    "            inp.data = torch.from_numpy(test_inp_arr)\n",
    "            \n",
    "            test_tar_arr = np.array([testY[ind:ind + seq_len] for ind in test_indices])\n",
    "            test_tar_arr = np.reshape(test_tar_arr, (batchsize, seq_len, 1))\n",
    "            tar.data = torch.from_numpy(test_tar_arr)\n",
    "            \n",
    "            out = model.forward(inp)\n",
    "            \n",
    "            loss = loss_f(out, tar)\n",
    "            \n",
    "            losses.append(loss.data.numpy()[0])\n",
    "    return losses, model"
   ]
  },
  {
   "cell_type": "code",
   "execution_count": 10,
   "metadata": {
    "collapsed": true
   },
   "outputs": [],
   "source": [
    "def plot_losses(losses):\n",
    "    plt.xlabel('Measures')\n",
    "    plt.ylabel('Loss')\n",
    "    plt.plot(losses)"
   ]
  },
  {
   "cell_type": "code",
   "execution_count": 18,
   "metadata": {
    "collapsed": true
   },
   "outputs": [],
   "source": [
    "def plot_two_losses(losses):\n",
    "    plt.figure(figsize = (12, 3))\n",
    "    plot_max = max(max(losses[0]), max(losses[1]))\n",
    "    \n",
    "    plt.subplot(1, 2, 1)\n",
    "    plt.ylim(0, plot_max * 1.1)\n",
    "    plt.title('GRU')\n",
    "    plot_losses(losses[0])\n",
    "    \n",
    "    plt.subplot(1, 2, 2)\n",
    "    plt.ylim(0, plot_max * 1.1)\n",
    "    plt.title('LSTM')\n",
    "    plot_losses(losses[1])"
   ]
  },
  {
   "cell_type": "code",
   "execution_count": 66,
   "metadata": {
    "collapsed": true
   },
   "outputs": [],
   "source": [
    "def plot_graph(model, seq_len, batchsize):\n",
    "    inf_iters = int(float(data.shape[0] - trainY.shape[0] - seq_len + 2) / seq_len)\n",
    "    train_seq = data[:seq_len]\n",
    "    train_inf_seq = run_inference(model, train_seq, inf_iters, batchsize)\n",
    "    test_seq = data[trainY.shape[0] - 1:trainY.shape[0] + seq_len - 1]\n",
    "    test_inf_seq = run_inference(model, test_seq, inf_iters, batchsize)\n",
    "    \n",
    "    plt.xlabel('Time')\n",
    "    plt.ylabel('Passengers')\n",
    "#     plt.plot(data[:trainY.shape[0]])\n",
    "    plt.plot(train_seq, color = 'blue')\n",
    "    plt.plot(train_seq.shape[0] - 1 + np.arange(len(train_inf_seq) + 1),\n",
    "             list(train_seq[-1:]) + train_inf_seq, color = 'red')\n",
    "    plt.plot(trainY.shape[0] - 1 + np.arange(len(test_seq)),\n",
    "             test_seq, color = 'blue')\n",
    "    plt.plot(trainY.shape[0] + len(test_seq) - 2 + np.arange(len(test_inf_seq) + 1),\n",
    "             list(test_seq[-1:]) + test_inf_seq, color = 'red')\n",
    "    plt.ylim(0, 1.0)"
   ]
  },
  {
   "cell_type": "code",
   "execution_count": 37,
   "metadata": {
    "collapsed": true
   },
   "outputs": [],
   "source": [
    "def plot_two_graphs(models, seq_len, batchsize):\n",
    "    plt.figure(figsize = (12, 3))\n",
    "    \n",
    "    plt.subplot(1, 2, 1)\n",
    "    plt.title('GRU')\n",
    "    plot_graph(models[0], seq_len, batchsize)\n",
    "    \n",
    "    plt.subplot(1, 2, 2)\n",
    "    plt.title('LSTM')\n",
    "    plot_graph(models[1], seq_len, batchsize)"
   ]
  },
  {
   "cell_type": "code",
   "execution_count": 29,
   "metadata": {
    "collapsed": true
   },
   "outputs": [],
   "source": [
    "def try_gru_lstm(seq_len, num_layers, batchsize, iters, loss_every):\n",
    "    loss1, model1 = train_rnn(seq_len, num_layers, batchsize, iters, use_gru = True, loss_every = loss_every)\n",
    "    loss2, model2 = train_rnn(seq_len, num_layers, batchsize, iters, use_gru = False, loss_every = loss_every)\n",
    "    return (loss1, loss2), (model1, model2)"
   ]
  },
  {
   "cell_type": "code",
   "execution_count": 47,
   "metadata": {
    "collapsed": true
   },
   "outputs": [],
   "source": [
    "def run_inference(model, seq, inf_iters, batchsize):\n",
    "    inp_seq = seq\n",
    "    plot_seq = []\n",
    "#     if use_gru:\n",
    "    for i in xrange(inf_iters):\n",
    "        inp_arr = np.reshape(np.array([list(inp_seq)] * batchsize), (batchsize, len(seq), 1))\n",
    "        inp = Variable(torch.from_numpy(inp_arr))\n",
    "        out = model.forward(inp)\n",
    "        out_seq = out.data.numpy()[0, :]\n",
    "        inp_seq = out_seq\n",
    "        plot_seq.extend(out_seq)\n",
    "    return plot_seq"
   ]
  },
  {
   "cell_type": "code",
   "execution_count": 31,
   "metadata": {
    "collapsed": true
   },
   "outputs": [],
   "source": [
    "def experiment(seq_len, num_layers, batchsize, iters, loss_every):\n",
    "    losses, models = try_gru_lstm(seq_len, num_layers, batchsize, iters, loss_every)\n",
    "    plot_two_losses(losses)\n",
    "    plot_two_graphs(models, seq_len, batchsize)"
   ]
  },
  {
   "cell_type": "code",
   "execution_count": 79,
   "metadata": {
    "scrolled": false
   },
   "outputs": [],
   "source": [
    "# experiment(seq_len = 1, num_layers = 5, batchsize = 10, iters = 3000, loss_every = 100)"
   ]
  },
  {
   "cell_type": "code",
   "execution_count": 76,
   "metadata": {},
   "outputs": [],
   "source": [
    "# experiment(seq_len = 2, num_layers = 5, batchsize = 10, iters = 3000, loss_every = 100)"
   ]
  },
  {
   "cell_type": "code",
   "execution_count": 77,
   "metadata": {},
   "outputs": [],
   "source": [
    "# experiment(seq_len = 5, num_layers = 5, batchsize = 10, iters = 3000, loss_every = 100)"
   ]
  },
  {
   "cell_type": "code",
   "execution_count": 78,
   "metadata": {},
   "outputs": [],
   "source": [
    "# experiment(seq_len = 5, num_layers = 10, batchsize = 10, iters = 6000, loss_every = 100)"
   ]
  },
  {
   "cell_type": "code",
   "execution_count": 74,
   "metadata": {},
   "outputs": [
    {
     "name": "stderr",
     "output_type": "stream",
     "text": [
      "100%|██████████| 3000/3000 [02:24<00:00, 21.69it/s]\n",
      "100%|██████████| 3000/3000 [02:13<00:00, 22.41it/s]\n"
     ]
    },
    {
     "data": {
      "image/png": "[encoded data removed]",
      "text/plain": [
       "<matplotlib.figure.Figure at 0x7f79af3208d0>"
      ]
     },
     "metadata": {},
     "output_type": "display_data"
    },
    {
     "data": {
      "image/png": "[encoded data removed]",
      "text/plain": [
       "<matplotlib.figure.Figure at 0x7f79aef7bf10>"
      ]
     },
     "metadata": {},
     "output_type": "display_data"
    }
   ],
   "source": [
    "experiment(seq_len = 20, num_layers = 1, batchsize = 10, iters = 3000, loss_every = 100)"
   ]
  },
  {
   "cell_type": "code",
   "execution_count": null,
   "metadata": {
    "collapsed": true
   },
   "outputs": [],
   "source": [
    "experiment(seq_len = 20, num_layers = 4, batchsize = 10, iters = 3000, loss_every = 100)"
   ]
  },
  {
   "cell_type": "code",
   "execution_count": 69,
   "metadata": {},
   "outputs": [
    {
     "name": "stderr",
     "output_type": "stream",
     "text": [
      "100%|██████████| 3000/3000 [00:30<00:00, 96.88it/s] \n",
      "100%|██████████| 3000/3000 [00:30<00:00, 98.27it/s] \n"
     ]
    }
   ],
   "source": [
    "losses, models = try_gru_lstm(seq_len = 25, num_layers = 1, batchsize = 10, iters = 3000, loss_every = 100)"
   ]
  },
  {
   "cell_type": "code",
   "execution_count": 70,
   "metadata": {},
   "outputs": [
    {
     "data": {
      "image/png": "[encoded data removed]",
      "text/plain": [
       "<matplotlib.figure.Figure at 0x7f79aef41a50>"
      ]
     },
     "metadata": {},
     "output_type": "display_data"
    }
   ],
   "source": [
    "plot_two_losses(losses)"
   ]
  },
  {
   "cell_type": "code",
   "execution_count": 72,
   "metadata": {
    "scrolled": false
   },
   "outputs": [
    {
     "data": {
      "image/png": "[encoded data removed]",
      "text/plain": [
       "<matplotlib.figure.Figure at 0x7f79aef7bc10>"
      ]
     },
     "metadata": {},
     "output_type": "display_data"
    }
   ],
   "source": [
    "plot_two_graphs(models, seq_len = 25, batchsize = 10)"
   ]
  },
  {
   "cell_type": "code",
   "execution_count": 73,
   "metadata": {},
   "outputs": [],
   "source": [
    "# experiment(seq_len = 15, num_layers = 7, batchsize = 10, iters = 9000, loss_every = 300)"
   ]
  },
  {
   "cell_type": "code",
   "execution_count": null,
   "metadata": {
    "collapsed": true
   },
   "outputs": [],
   "source": [
    "# experiment(seq_len = 20, num_layers = 7, batchsize = 10, iters = 9000, loss_every = 300)"
   ]
  },
  {
   "cell_type": "markdown",
   "metadata": {},
   "source": [
    "## Задание 2"
   ]
  },
  {
   "cell_type": "markdown",
   "metadata": {},
   "source": [
    "Сделать датасет из двоичных чисел содежащих по N цифр. \n",
    "Обучить RNN: (2N -> N) - (2 числа записанные друг за другом) -> (сложение по модулю 2 ** N) . "
   ]
  },
  {
   "cell_type": "code",
   "execution_count": 21,
   "metadata": {
    "collapsed": true
   },
   "outputs": [],
   "source": [
    "def get_repr(num):\n",
    "    dec2brepr = lambda x: '{:b}'.format(x).zfill(vec_len)[-vec_len:]\n",
    "    brepr2bin = lambda x: ord(x) - ord('0')\n",
    "    return map(brepr2bin, dec2brepr(num))"
   ]
  },
  {
   "cell_type": "code",
   "execution_count": 22,
   "metadata": {
    "collapsed": true
   },
   "outputs": [],
   "source": [
    "def gen_num_data(size, vec_len):\n",
    "    nums = np.random.randint(0, 2 ** vec_len, (size, 2))\n",
    "    \n",
    "    x = np.array([get_repr(nums[i, 0]) + get_repr(nums[i, 1]) for i in xrange(nums.shape[0])])\n",
    "    \n",
    "    sums = nums[:, 0] + nums[:, 1]\n",
    "    y = np.array([get_repr(sums[i]) for i in xrange(sums.shape[0])])\n",
    "    \n",
    "    return x, y"
   ]
  },
  {
   "cell_type": "code",
   "execution_count": 23,
   "metadata": {
    "collapsed": true
   },
   "outputs": [],
   "source": [
    "vec_len = 10\n",
    "train_size = 100000\n",
    "test_size = 1000"
   ]
  },
  {
   "cell_type": "code",
   "execution_count": 24,
   "metadata": {
    "collapsed": true
   },
   "outputs": [],
   "source": [
    "trainX, trainY = gen_num_data(train_size, vec_len)\n",
    "testX, testY = gen_num_data(test_size, vec_len)"
   ]
  },
  {
   "cell_type": "code",
   "execution_count": 79,
   "metadata": {
    "collapsed": true
   },
   "outputs": [],
   "source": [
    "class gruModel(torch.nn.Module):\n",
    "    def __init__(self, vec_len, num_layers):\n",
    "        super(gruModel, self).__init__()\n",
    "        self.gru = torch.nn.GRU(input_size = 2 * vec_len, hidden_size = vec_len,\n",
    "                                num_layers = num_layers,\n",
    "                                bias = True, batch_first = True)\n",
    "        self.padding = torch.nn.Sequential(torch.nn.Linear(vec_len, vec_len), torch.nn.Sigmoid())\n",
    "    \n",
    "    def forward(self, x):\n",
    "#         inp = Variable(torch.zeros(batchsize, 1, 1), requires_grad = False).long()\n",
    "#         inp_arr = x.data.numpy()\n",
    "#         for i in xrange(2 * vec_len):\n",
    "#             inp.data = torch.from_numpy(np.reshape(inp_arr[:, :, i], (batchsize, 1, 1)))\n",
    "#             if i == 0:\n",
    "#                 out, hid = self.gru.forward(inp)\n",
    "#             else:\n",
    "#                 out, hid = self.gru.forward(inp, hid)\n",
    "        \n",
    "        out, hid = self.gru.forward(x)\n",
    "        \n",
    "#         hid.detach() # check if needed\n",
    "        \n",
    "        out = out.view(out.size(0), -1)\n",
    "        out = self.padding(out)\n",
    "        return out"
   ]
  },
  {
   "cell_type": "code",
   "execution_count": 81,
   "metadata": {
    "collapsed": true
   },
   "outputs": [],
   "source": [
    "def train_rnn(num_layers, batchsize, iters, loss_every):\n",
    "    vec_len = trainY.shape[1]\n",
    "    \n",
    "    model = gruModel(vec_len, num_layers)\n",
    "    \n",
    "    loss_f = torch.nn.BCELoss()\n",
    "    optimizer = torch.optim.Adam(model.parameters())\n",
    "    \n",
    "    losses = []\n",
    "    \n",
    "    inp = Variable(torch.zeros(batchsize, 1, 2 * vec_len), requires_grad = False)\n",
    "    tar = Variable(torch.zeros(batchsize, 1, vec_len), requires_grad = False)\n",
    "    \n",
    "    for it in tqdm(xrange(iters)):\n",
    "        indices = np.random.randint(0, trainY.shape[0], batchsize)\n",
    "        \n",
    "        # batchsize, seq_len, hidden_size (batch_first == True)\n",
    "        inp_arr = np.array([trainX[ind, :] for ind in indices])\n",
    "        inp_arr = np.reshape(inp_arr, (batchsize, 1, 2 * vec_len))\n",
    "        inp.data = torch.from_numpy(inp_arr).float()\n",
    "        tar_arr = np.array([trainY[ind, :] for ind in indices])\n",
    "        tar_arr = np.reshape(tar_arr, (batchsize, 1, vec_len))\n",
    "        tar.data = torch.from_numpy(tar_arr).float()\n",
    "\n",
    "        out = model.forward(inp)\n",
    "        \n",
    "        loss = loss_f(out, tar)\n",
    "\n",
    "        optimizer.zero_grad()\n",
    "        loss.backward()\n",
    "        optimizer.step()\n",
    "        \n",
    "        # now test\n",
    "        if it % loss_every == 0:\n",
    "            test_indices = np.random.randint(0, testY.shape[0], batchsize)\n",
    "            \n",
    "            test_inp_arr = np.array([testX[ind, :] for ind in test_indices])\n",
    "            test_inp_arr = np.reshape(test_inp_arr, (batchsize, 1, 2 * vec_len))\n",
    "            inp.data = torch.from_numpy(test_inp_arr).float()\n",
    "            test_tar_arr = np.array([testY[ind, :] for ind in test_indices])\n",
    "            test_tar_arr = np.reshape(test_tar_arr, (batchsize, 1, vec_len))\n",
    "            tar.data = torch.from_numpy(test_tar_arr).float()\n",
    "            \n",
    "            out = model.forward(inp)\n",
    "            \n",
    "            loss = loss_f(out, tar)\n",
    "            \n",
    "            losses.append(loss.data.numpy()[0])\n",
    "    return losses, model"
   ]
  },
  {
   "cell_type": "code",
   "execution_count": 102,
   "metadata": {},
   "outputs": [
    {
     "name": "stderr",
     "output_type": "stream",
     "text": [
      "100%|██████████| 500000/500000 [14:33<00:00, 572.27it/s]\n"
     ]
    }
   ],
   "source": [
    "num_layers = 2\n",
    "batchsize = 30\n",
    "losses, model = train_rnn(num_layers, batchsize, iters = 500000, loss_every = 3000)"
   ]
  },
  {
   "cell_type": "code",
   "execution_count": 103,
   "metadata": {
    "scrolled": false
   },
   "outputs": [
    {
     "data": {
      "image/png": "[encoded data removed]",
      "text/plain": [
       "<matplotlib.figure.Figure at 0x7fce0f83cbd0>"
      ]
     },
     "metadata": {},
     "output_type": "display_data"
    }
   ],
   "source": [
    "plot_losses(losses)"
   ]
  },
  {
   "cell_type": "code",
   "execution_count": 104,
   "metadata": {
    "collapsed": true
   },
   "outputs": [],
   "source": [
    "nums = np.random.randint(0, 2 ** (vec_len - 1), (batchsize, 2))\n",
    "sums = nums[:, 0] + nums[:, 1]"
   ]
  },
  {
   "cell_type": "code",
   "execution_count": 105,
   "metadata": {
    "collapsed": true
   },
   "outputs": [],
   "source": [
    "# inp = Variable(torch.zeros(batchsize, 1, 1), requires_grad = False)\n",
    "# hid = Variable(torch.zeros(num_layers, batchsize, vec_len), requires_grad = False)\n",
    "# for i in xrange(2 * vec_len): # for gru\n",
    "#     inp.data = torch.from_numpy(np.reshape(inp_arr[:, i], (batchsize, 1, 1))).float()\n",
    "#     out, hid = model.forward(inp, hid)\n",
    "\n",
    "inp_arr = np.array([get_repr(nums[i, 0]) + get_repr(nums[i, 1]) for i in xrange(nums.shape[0])])\n",
    "inp_arr = np.reshape(inp_arr, (batchsize, 1, 2 * vec_len))\n",
    "inp = Variable(torch.from_numpy(inp_arr).float())\n",
    "\n",
    "tar_arr = np.array([get_repr(sums[i]) for i in xrange(sums.shape[0])])\n",
    "tar_arr = np.reshape(tar_arr, (batchsize, 1, vec_len))\n",
    "tar = Variable(torch.from_numpy(tar_arr).float())\n",
    "\n",
    "out = model.forward(inp)"
   ]
  },
  {
   "cell_type": "code",
   "execution_count": 106,
   "metadata": {},
   "outputs": [
    {
     "data": {
      "text/plain": [
       "Variable containing:\n",
       " 0.2082\n",
       "[torch.FloatTensor of size 1]"
      ]
     },
     "execution_count": 106,
     "metadata": {},
     "output_type": "execute_result"
    }
   ],
   "source": [
    "loss_f = torch.nn.BCELoss()\n",
    "loss_f(out, tar)"
   ]
  },
  {
   "cell_type": "code",
   "execution_count": 109,
   "metadata": {},
   "outputs": [
    {
     "data": {
      "text/plain": [
       "array([ 0.,  1.,  0.,  0.,  0.,  0.,  1.,  0.,  0.,  0.], dtype=float32)"
      ]
     },
     "execution_count": 109,
     "metadata": {},
     "output_type": "execute_result"
    }
   ],
   "source": [
    "np.round(out.data.numpy()[0, :])"
   ]
  },
  {
   "cell_type": "code",
   "execution_count": 108,
   "metadata": {},
   "outputs": [
    {
     "data": {
      "text/plain": [
       "array([[ 0.,  1.,  1.,  0.,  0.,  0.,  1.,  0.,  0.,  0.]], dtype=float32)"
      ]
     },
     "execution_count": 108,
     "metadata": {},
     "output_type": "execute_result"
    }
   ],
   "source": [
    "tar.data.numpy()[0, :]"
   ]
  },
  {
   "cell_type": "code",
   "execution_count": null,
   "metadata": {
    "collapsed": true
   },
   "outputs": [],
   "source": []
  }
 ],
 "metadata": {
  "kernelspec": {
   "display_name": "Python 2",
   "language": "python2",
   "name": "python2"
  },
  "language_info": {
   "codemirror_mode": {
    "name": "ipython",
    "version": 2
   },
   "file_extension": ".py",
   "mimetype": "text/x-python",
   "name": "python",
   "nbconvert_exporter": "python",
   "pygments_lexer": "ipython2",
   "version": "2.7.13"
  }
 },
 "nbformat": 4,
 "nbformat_minor": 1
}
