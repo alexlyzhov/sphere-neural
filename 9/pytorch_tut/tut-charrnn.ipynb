{
 "cells": [
  {
   "cell_type": "markdown",
   "metadata": {},
   "source": [
    "http://pytorch.org/tutorials/intermediate/char_rnn_classification_tutorial.html"
   ]
  },
  {
   "cell_type": "code",
   "execution_count": 2,
   "metadata": {
    "collapsed": true
   },
   "outputs": [],
   "source": [
    "import glob\n",
    "import unicodedata\n",
    "import string\n",
    "import codecs\n",
    "import random\n",
    "import time\n",
    "import math\n",
    "\n",
    "import torch\n",
    "import torch.nn as nn\n",
    "from torch.autograd import Variable\n",
    "\n",
    "import matplotlib.pyplot as plt\n",
    "import matplotlib.ticker as ticker\n",
    "%matplotlib inline"
   ]
  },
  {
   "cell_type": "code",
   "execution_count": 24,
   "metadata": {
    "collapsed": true
   },
   "outputs": [],
   "source": [
    "def timeSince(since):\n",
    "    now = time.time()\n",
    "    s = now - since\n",
    "    m = math.floor(s / 60)\n",
    "    s -= m * 60\n",
    "    return '%dm %ds' % (m, s)"
   ]
  },
  {
   "cell_type": "markdown",
   "metadata": {},
   "source": [
    "Load files\n",
    "=="
   ]
  },
  {
   "cell_type": "code",
   "execution_count": 3,
   "metadata": {
    "collapsed": true
   },
   "outputs": [],
   "source": [
    "def findFiles(path): return glob.glob(path)"
   ]
  },
  {
   "cell_type": "code",
   "execution_count": 4,
   "metadata": {
    "collapsed": true
   },
   "outputs": [],
   "source": [
    "files = findFiles('data/names/*.txt')"
   ]
  },
  {
   "cell_type": "code",
   "execution_count": 5,
   "metadata": {
    "collapsed": true
   },
   "outputs": [],
   "source": [
    "it_ex = codecs.open('data/names/Italian.txt', 'r', 'utf-8').readlines()"
   ]
  },
  {
   "cell_type": "code",
   "execution_count": 6,
   "metadata": {},
   "outputs": [
    {
     "data": {
      "text/plain": [
       "[u'Abandonato\\n',\n",
       " u'Abatangelo\\n',\n",
       " u'Abatantuono\\n',\n",
       " u'Abate\\n',\n",
       " u'Abategiovanni\\n']"
      ]
     },
     "execution_count": 6,
     "metadata": {},
     "output_type": "execute_result"
    }
   ],
   "source": [
    "it_ex[:5]"
   ]
  },
  {
   "cell_type": "code",
   "execution_count": 7,
   "metadata": {},
   "outputs": [
    {
     "data": {
      "text/plain": [
       "709"
      ]
     },
     "execution_count": 7,
     "metadata": {},
     "output_type": "execute_result"
    }
   ],
   "source": [
    "len(it_ex)"
   ]
  },
  {
   "cell_type": "markdown",
   "metadata": {},
   "source": [
    "Convert to ascii\n",
    "==="
   ]
  },
  {
   "cell_type": "code",
   "execution_count": 8,
   "metadata": {
    "collapsed": true
   },
   "outputs": [],
   "source": [
    "all_letters = string.ascii_letters + \" .,;'\"\n",
    "n_letters = len(all_letters)"
   ]
  },
  {
   "cell_type": "code",
   "execution_count": 9,
   "metadata": {},
   "outputs": [
    {
     "data": {
      "text/plain": [
       "57"
      ]
     },
     "execution_count": 9,
     "metadata": {},
     "output_type": "execute_result"
    }
   ],
   "source": [
    "n_letters"
   ]
  },
  {
   "cell_type": "code",
   "execution_count": 10,
   "metadata": {
    "collapsed": true
   },
   "outputs": [],
   "source": [
    "def unicodeToAscii(s):\n",
    "    return str(''.join(\n",
    "        c for c in unicodedata.normalize('NFD', s)\n",
    "        if unicodedata.category(c) != 'Mn'\n",
    "        and c in all_letters\n",
    "    ))"
   ]
  },
  {
   "cell_type": "code",
   "execution_count": 11,
   "metadata": {},
   "outputs": [
    {
     "name": "stdout",
     "output_type": "stream",
     "text": [
      "Slusarski\n"
     ]
    }
   ],
   "source": [
    "print(unicodeToAscii(u'Ślusàrski'))"
   ]
  },
  {
   "cell_type": "code",
   "execution_count": 12,
   "metadata": {
    "collapsed": true
   },
   "outputs": [],
   "source": [
    "category_lines = {}\n",
    "all_categories = []"
   ]
  },
  {
   "cell_type": "code",
   "execution_count": 13,
   "metadata": {
    "collapsed": true
   },
   "outputs": [],
   "source": [
    "def readLines(filename):\n",
    "    lines = codecs.open(filename, 'r', 'utf-8').read().strip().split('\\n')\n",
    "    return [unicodeToAscii(line) for line in lines]"
   ]
  },
  {
   "cell_type": "code",
   "execution_count": 14,
   "metadata": {
    "collapsed": true
   },
   "outputs": [],
   "source": [
    "for filename in files:\n",
    "    category = filename.split('/')[-1].split('.')[0]\n",
    "    all_categories.append(category)\n",
    "    lines = readLines(filename)\n",
    "    category_lines[category] = lines"
   ]
  },
  {
   "cell_type": "code",
   "execution_count": 15,
   "metadata": {
    "collapsed": true
   },
   "outputs": [],
   "source": [
    "n_categories = len(all_categories)"
   ]
  },
  {
   "cell_type": "code",
   "execution_count": 16,
   "metadata": {},
   "outputs": [
    {
     "data": {
      "text/plain": [
       "(['Italian', 'Vietnamese', 'Portuguese', 'Japanese', 'Korean'], 18)"
      ]
     },
     "execution_count": 16,
     "metadata": {},
     "output_type": "execute_result"
    }
   ],
   "source": [
    "all_categories[:5], n_categories"
   ]
  },
  {
   "cell_type": "code",
   "execution_count": 17,
   "metadata": {},
   "outputs": [
    {
     "data": {
      "text/plain": [
       "['Nguyen', 'Tron', 'Le', 'Pham', 'Huynh']"
      ]
     },
     "execution_count": 17,
     "metadata": {},
     "output_type": "execute_result"
    }
   ],
   "source": [
    "category_lines['Vietnamese'][:5]"
   ]
  },
  {
   "cell_type": "markdown",
   "metadata": {},
   "source": [
    "One-hot letter encoding\n",
    "=="
   ]
  },
  {
   "cell_type": "code",
   "execution_count": 18,
   "metadata": {
    "collapsed": true
   },
   "outputs": [],
   "source": [
    "# Find letter index from all_letters, e.g. \"a\" = 0\n",
    "def letterToIndex(letter):\n",
    "    return all_letters.find(letter)"
   ]
  },
  {
   "cell_type": "code",
   "execution_count": 19,
   "metadata": {},
   "outputs": [
    {
     "data": {
      "text/plain": [
       "6"
      ]
     },
     "execution_count": 19,
     "metadata": {},
     "output_type": "execute_result"
    }
   ],
   "source": [
    "letterToIndex('g')"
   ]
  },
  {
   "cell_type": "code",
   "execution_count": 20,
   "metadata": {
    "collapsed": true
   },
   "outputs": [],
   "source": [
    "# Just for demonstration, turn a letter into a <1 x n_letters> Tensor\n",
    "def letterToTensor(letter):\n",
    "    tensor = torch.zeros(1, n_letters)\n",
    "    tensor[0][letterToIndex(letter)] = 1\n",
    "    return tensor"
   ]
  },
  {
   "cell_type": "code",
   "execution_count": 21,
   "metadata": {},
   "outputs": [
    {
     "data": {
      "text/plain": [
       "\n",
       "\n",
       "Columns 0 to 12 \n",
       "    0     0     0     0     0     0     1     0     0     0     0     0     0\n",
       "\n",
       "Columns 13 to 25 \n",
       "    0     0     0     0     0     0     0     0     0     0     0     0     0\n",
       "\n",
       "Columns 26 to 38 \n",
       "    0     0     0     0     0     0     0     0     0     0     0     0     0\n",
       "\n",
       "Columns 39 to 51 \n",
       "    0     0     0     0     0     0     0     0     0     0     0     0     0\n",
       "\n",
       "Columns 52 to 56 \n",
       "    0     0     0     0     0\n",
       "[torch.FloatTensor of size 1x57]"
      ]
     },
     "execution_count": 21,
     "metadata": {},
     "output_type": "execute_result"
    }
   ],
   "source": [
    "letterToTensor('g')"
   ]
  },
  {
   "cell_type": "code",
   "execution_count": 22,
   "metadata": {
    "collapsed": true
   },
   "outputs": [],
   "source": [
    "# Turn a line into a <line_length x 1 x n_letters>,\n",
    "# or an array of one-hot letter vectors\n",
    "def lineToTensor(line):\n",
    "    tensor = torch.zeros(len(line), 1, n_letters)\n",
    "    for li, letter in enumerate(line):\n",
    "        tensor[li][0][letterToIndex(letter)] = 1\n",
    "    return tensor"
   ]
  },
  {
   "cell_type": "code",
   "execution_count": 23,
   "metadata": {},
   "outputs": [
    {
     "name": "stdout",
     "output_type": "stream",
     "text": [
      "torch.Size([5, 1, 57])\n"
     ]
    }
   ],
   "source": [
    "print(lineToTensor('Jones').size()) # 1 is batchsize"
   ]
  },
  {
   "cell_type": "markdown",
   "metadata": {},
   "source": [
    "Define our own RNN\n",
    "=="
   ]
  },
  {
   "cell_type": "code",
   "execution_count": 73,
   "metadata": {
    "collapsed": true
   },
   "outputs": [],
   "source": [
    "class RNN(nn.Module):\n",
    "    def __init__(self, input_size, hidden_size, output_size):\n",
    "        super(RNN, self).__init__()\n",
    "\n",
    "        self.hidden_size = hidden_size\n",
    "\n",
    "        self.i2h = nn.Linear(input_size + hidden_size, hidden_size) # input, hidden -> hidden\n",
    "        self.i2o = nn.Linear(input_size + hidden_size, output_size) # input, hidden -> output\n",
    "        self.softmax = nn.LogSoftmax() # softmax on output\n",
    "\n",
    "    def forward(self, input, hidden):\n",
    "        combined = torch.cat((input, hidden), 1) # axis == 1\n",
    "        hidden = self.i2h(combined)\n",
    "        output = self.i2o(combined)\n",
    "        output = self.softmax(output)\n",
    "        return output, hidden\n",
    "\n",
    "    def initHidden(self):\n",
    "        return Variable(torch.zeros(1, self.hidden_size))"
   ]
  },
  {
   "cell_type": "code",
   "execution_count": 85,
   "metadata": {
    "collapsed": true
   },
   "outputs": [],
   "source": [
    "def categoryFromOutput(output):\n",
    "    top_n, top_i = output.data.topk(1) # Tensor out of Variable with .data\n",
    "    category_i = top_i[0][0]\n",
    "    return all_categories[category_i], category_i"
   ]
  },
  {
   "cell_type": "code",
   "execution_count": 87,
   "metadata": {
    "collapsed": true
   },
   "outputs": [],
   "source": [
    "def randomChoice(l):\n",
    "    return l[random.randint(0, len(l) - 1)]\n",
    "\n",
    "def randomTrainingPair():\n",
    "    category = randomChoice(all_categories)\n",
    "    line = randomChoice(category_lines[category])\n",
    "    category_tensor = Variable(torch.LongTensor([all_categories.index(category)]))\n",
    "    line_tensor = Variable(lineToTensor(line))\n",
    "    return category, line, category_tensor, line_tensor"
   ]
  },
  {
   "cell_type": "code",
   "execution_count": 74,
   "metadata": {
    "collapsed": true
   },
   "outputs": [],
   "source": [
    "n_hidden = 128\n",
    "rnn = RNN(n_letters, n_hidden, n_categories)"
   ]
  },
  {
   "cell_type": "code",
   "execution_count": 80,
   "metadata": {
    "collapsed": true
   },
   "outputs": [],
   "source": [
    "input = Variable(lineToTensor('Albert'))\n",
    "hidden = Variable(torch.zeros(1, n_hidden))\n",
    "\n",
    "output, next_hidden = rnn(input[0], hidden)"
   ]
  },
  {
   "cell_type": "code",
   "execution_count": 81,
   "metadata": {},
   "outputs": [
    {
     "name": "stdout",
     "output_type": "stream",
     "text": [
      "Variable containing:\n",
      "\n",
      "Columns 0 to 9 \n",
      "-2.8771 -2.8325 -2.8708 -2.8314 -2.8691 -2.9160 -2.9356 -2.7828 -2.8353 -2.9857\n",
      "\n",
      "Columns 10 to 17 \n",
      "-2.9720 -2.8564 -2.8844 -2.9562 -2.8461 -2.9656 -2.9445 -2.8939\n",
      "[torch.FloatTensor of size 1x18]\n",
      "\n"
     ]
    }
   ],
   "source": [
    "print(output)"
   ]
  },
  {
   "cell_type": "code",
   "execution_count": 82,
   "metadata": {},
   "outputs": [
    {
     "name": "stdout",
     "output_type": "stream",
     "text": [
      "torch.Size([1, 18])\n"
     ]
    }
   ],
   "source": [
    "print(output.size())"
   ]
  },
  {
   "cell_type": "code",
   "execution_count": 84,
   "metadata": {},
   "outputs": [
    {
     "name": "stdout",
     "output_type": "stream",
     "text": [
      "('German', 7)\n"
     ]
    }
   ],
   "source": [
    "print(categoryFromOutput(output))"
   ]
  },
  {
   "cell_type": "code",
   "execution_count": 88,
   "metadata": {},
   "outputs": [
    {
     "name": "stdout",
     "output_type": "stream",
     "text": [
      "('category =', 'Irish', '/ line =', 'Ciardha')\n",
      "('category =', 'English', '/ line =', 'Froy')\n",
      "('category =', 'Chinese', '/ line =', 'Guang')\n",
      "('category =', 'Spanish', '/ line =', 'Ubina')\n",
      "('category =', 'Spanish', '/ line =', 'Martinez')\n",
      "('category =', 'Dutch', '/ line =', 'Amstel')\n",
      "('category =', 'English', '/ line =', 'Fish')\n",
      "('category =', 'Italian', '/ line =', 'Gentile')\n",
      "('category =', 'French', '/ line =', 'Lyon')\n",
      "('category =', 'English', '/ line =', 'Browne')\n"
     ]
    }
   ],
   "source": [
    "for i in range(10):\n",
    "    category, line, category_tensor, line_tensor = randomTrainingPair()\n",
    "    print('category =', category, '/ line =', line)"
   ]
  },
  {
   "cell_type": "markdown",
   "metadata": {},
   "source": [
    "Train\n",
    "=="
   ]
  },
  {
   "cell_type": "code",
   "execution_count": 92,
   "metadata": {
    "collapsed": true
   },
   "outputs": [],
   "source": [
    "def train_step(category_tensor, line_tensor):\n",
    "    criterion = nn.NLLLoss()\n",
    "    learning_rate = 0.005\n",
    "    \n",
    "    hidden = rnn.initHidden()\n",
    "\n",
    "    rnn.zero_grad()\n",
    "\n",
    "    for i in range(line_tensor.size()[0]):\n",
    "        output, hidden = rnn(line_tensor[i], hidden)\n",
    "\n",
    "    loss = criterion(output, category_tensor)\n",
    "    loss.backward()\n",
    "\n",
    "    for p in rnn.parameters(): # handy!\n",
    "        p.data.add_(-learning_rate, p.grad.data)\n",
    "\n",
    "    return output, loss.data[0]"
   ]
  },
  {
   "cell_type": "code",
   "execution_count": 96,
   "metadata": {},
   "outputs": [
    {
     "name": "stdout",
     "output_type": "stream",
     "text": [
      "1000 0% (0m 2s) 2.8297 Kotoku / Polish ✗ (Japanese)\n",
      "2000 0% (0m 5s) 2.5386 Avzalov / Russian ✓\n",
      "3000 0% (0m 7s) 2.5540 Richter / German ✓\n",
      "4000 0% (0m 10s) 2.5814 Piccirillo / Portuguese ✗ (Italian)\n",
      "5000 0% (0m 12s) 2.7231 Handal / Russian ✗ (Arabic)\n",
      "6000 0% (0m 14s) 1.9505 Dunajski / Polish ✓\n",
      "7000 0% (0m 17s) 2.6274 Waterman / Irish ✗ (English)\n",
      "8000 0% (0m 19s) 1.8438 Maclean / Scottish ✓\n",
      "9000 0% (0m 21s) 2.6806 D'cruze / Czech ✗ (Portuguese)\n",
      "10000 0% (0m 24s) 1.1576 Pham / Vietnamese ✓\n",
      "11000 0% (0m 26s) 1.7965 Kang / Chinese ✗ (Korean)\n",
      "12000 0% (0m 28s) 2.2352 Delgado / Portuguese ✗ (Spanish)\n",
      "13000 0% (0m 30s) 3.0023 Peij / Korean ✗ (Dutch)\n",
      "14000 0% (0m 33s) 2.5573 Augustin / Scottish ✗ (French)\n",
      "15000 0% (0m 35s) 4.0884 Shigemitsu / Italian ✗ (Japanese)\n",
      "16000 0% (0m 37s) 1.8981 Wasem / Arabic ✓\n",
      "17000 0% (0m 39s) 2.2148 Handzlik / Polish ✗ (Czech)\n",
      "18000 0% (0m 41s) 0.5689 Abdrakhmanov / Russian ✓\n",
      "19000 0% (0m 44s) 1.4709 Tsutomu / Japanese ✓\n",
      "20000 0% (0m 46s) 0.9253 Chu / Vietnamese ✓\n",
      "21000 0% (0m 48s) 1.9116 O'Kane / Irish ✓\n",
      "22000 0% (0m 51s) 1.7751 Herrero / Dutch ✗ (Spanish)\n",
      "23000 0% (0m 53s) 0.7862 Albrici / Italian ✓\n",
      "24000 0% (0m 56s) 0.0426 Moraitopoulos / Greek ✓\n",
      "25000 0% (0m 58s) 4.5568 Kauffmann / Japanese ✗ (German)\n",
      "26000 0% (1m 1s) 0.3247 Bazzoli / Italian ✓\n",
      "27000 0% (1m 3s) 4.2825 Bim / Korean ✗ (Russian)\n",
      "28000 0% (1m 6s) 0.9978 Osaragi / Japanese ✓\n",
      "29000 0% (1m 8s) 0.3403 Shon / Korean ✓\n",
      "30000 0% (1m 11s) 1.6261 Chaput / Arabic ✗ (French)\n",
      "31000 0% (1m 14s) 1.5787 Amelsvoort / German ✗ (Dutch)\n",
      "32000 0% (1m 17s) 3.3891 Calligaris / Greek ✗ (Italian)\n",
      "33000 0% (1m 19s) 1.9640 Neeson / Scottish ✗ (English)\n",
      "34000 0% (1m 22s) 3.0589 John / Korean ✗ (Irish)\n",
      "35000 0% (1m 24s) 2.1695 Cormac / Czech ✗ (Irish)\n",
      "36000 0% (1m 26s) 1.2192 Bhrighde / Irish ✓\n",
      "37000 0% (1m 29s) 1.8092 Bilyarsky / Scottish ✗ (Russian)\n",
      "38000 0% (1m 31s) 1.0625 Fung / Chinese ✓\n",
      "39000 0% (1m 33s) 1.8967 Gomes / Dutch ✗ (Portuguese)\n",
      "40000 0% (1m 36s) 0.4690 Meeuwessen / Dutch ✓\n",
      "41000 0% (1m 39s) 1.4563 Chan / Vietnamese ✗ (Chinese)\n",
      "42000 0% (1m 41s) 1.8941 Lepehin / Irish ✗ (Russian)\n",
      "43000 0% (1m 43s) 0.3293 Grzeskiewicz / Polish ✓\n",
      "44000 0% (1m 45s) 1.1252 Severijns / Dutch ✓\n",
      "45000 0% (1m 47s) 2.7582 Bacon / English ✗ (Czech)\n",
      "46000 0% (1m 50s) 1.5266 Como / Italian ✓\n",
      "47000 0% (1m 52s) 1.9288 Araullo / Italian ✗ (Portuguese)\n",
      "48000 0% (1m 54s) 2.0274 Berezin / Dutch ✗ (Russian)\n",
      "49000 0% (1m 56s) 1.8419 Goodridge / Scottish ✗ (English)\n",
      "50000 0% (1m 59s) 1.2884 Lieu / Vietnamese ✓\n",
      "51000 0% (2m 1s) 1.1201 Gardinier / French ✓\n",
      "52000 0% (2m 4s) 1.5006 Bradach / Irish ✓\n",
      "53000 0% (2m 6s) 1.6093 Gold / English ✓\n",
      "54000 0% (2m 8s) 2.6479 Atiyeh / Vietnamese ✗ (Arabic)\n",
      "55000 0% (2m 11s) 0.6630 Awad / Arabic ✓\n",
      "56000 0% (2m 13s) 1.4209 Chong / Chinese ✗ (Korean)\n",
      "57000 0% (2m 15s) 0.6611 Luc / Vietnamese ✓\n",
      "58000 0% (2m 17s) 1.2359 Ho / Korean ✗ (Vietnamese)\n",
      "59000 0% (2m 19s) 0.1003 Davidson / Scottish ✓\n",
      "60000 0% (2m 21s) 1.6270 Lagorio / Spanish ✗ (Italian)\n",
      "61000 0% (2m 24s) 0.5686 Inaba / Japanese ✓\n",
      "62000 0% (2m 26s) 0.4438 To / Vietnamese ✓\n",
      "63000 0% (2m 28s) 3.1387 Cline / French ✗ (German)\n",
      "64000 0% (2m 30s) 0.5589 Finnegan / Irish ✓\n",
      "65000 0% (2m 32s) 1.9804 Dong / Vietnamese ✗ (Chinese)\n",
      "66000 0% (2m 35s) 0.8104 Giang / Vietnamese ✓\n",
      "67000 0% (2m 37s) 0.4937 Ruvelas / Greek ✓\n",
      "68000 0% (2m 39s) 1.3546 Selvaggio / Spanish ✗ (Italian)\n",
      "69000 0% (2m 41s) 2.6507 Wolter / Polish ✗ (German)\n",
      "70000 0% (2m 43s) 1.4693 Boucher / Dutch ✗ (French)\n",
      "71000 0% (2m 45s) 0.8286 Momotov / Russian ✓\n",
      "72000 0% (2m 48s) 3.6991 Gajos / Greek ✗ (Polish)\n",
      "73000 0% (2m 50s) 0.3903 Hajjar / Arabic ✓\n",
      "74000 0% (2m 53s) 0.7666 Ahn / Korean ✓\n",
      "75000 0% (2m 55s) 2.1596 Taidhg / Arabic ✗ (Irish)\n",
      "76000 0% (2m 58s) 0.5697 Tai / Chinese ✓\n",
      "77000 0% (3m 0s) 2.1375 Dolan / Irish ✗ (English)\n",
      "78000 0% (3m 3s) 0.4617 Shammas / Arabic ✓\n",
      "79000 0% (3m 5s) 1.2154 Oakley / Russian ✗ (English)\n",
      "80000 0% (3m 7s) 0.0786 Ryjakov / Russian ✓\n",
      "81000 0% (3m 10s) 0.6937 Chu / Vietnamese ✓\n",
      "82000 0% (3m 12s) 1.7694 Moschella / Spanish ✗ (Italian)\n",
      "83000 0% (3m 15s) 1.0659 Morello / Italian ✓\n",
      "84000 0% (3m 17s) 1.5891 Dupond / English ✗ (French)\n",
      "85000 0% (3m 20s) 0.1340 Gao / Chinese ✓\n",
      "86000 0% (3m 22s) 0.6803 Hyun  / Korean ✓\n",
      "87000 0% (3m 25s) 0.6566 Inaba / Japanese ✓\n",
      "88000 0% (3m 27s) 1.2594 Deniau / French ✓\n",
      "89000 0% (3m 30s) 0.8989 Arendonk / Dutch ✓\n",
      "90000 0% (3m 33s) 1.8869 Harman / Arabic ✗ (French)\n",
      "91000 0% (3m 35s) 1.9233 Neisser / Polish ✗ (Czech)\n",
      "92000 0% (3m 38s) 2.9162 Turvey / French ✗ (English)\n",
      "93000 0% (3m 40s) 1.3366 Murgia / Italian ✓\n",
      "94000 0% (3m 43s) 3.6723 Masin / Scottish ✗ (Italian)\n",
      "95000 0% (3m 45s) 0.8575 Piontek / Polish ✓\n",
      "96000 0% (3m 48s) 2.0091 Thomas / Greek ✗ (French)\n",
      "97000 0% (3m 50s) 2.9732 Olmos / Greek ✗ (Spanish)\n",
      "98000 0% (3m 52s) 2.6667 Kubin / Russian ✗ (Czech)\n",
      "99000 0% (3m 55s) 0.1028 De santigo / Portuguese ✓\n",
      "100000 100% (3m 57s) 0.1143 Monahan / Irish ✓\n"
     ]
    }
   ],
   "source": [
    "n_epochs = 100000\n",
    "print_every = 1000\n",
    "plot_every = 1000\n",
    "\n",
    "rnn = RNN(n_letters, n_hidden, n_categories)\n",
    "\n",
    "current_loss = 0\n",
    "all_losses = []\n",
    "\n",
    "start = time.time()\n",
    "\n",
    "for epoch in range(1, n_epochs + 1):\n",
    "    category, line, category_tensor, line_tensor = randomTrainingPair()\n",
    "    output, loss = train_step(category_tensor, line_tensor)\n",
    "    current_loss += loss\n",
    "\n",
    "    # Print epoch number, loss, name and guess\n",
    "    if epoch % print_every == 0:\n",
    "        guess, guess_i = categoryFromOutput(output)\n",
    "        correct = '✓' if guess == category else '✗ (%s)' % category\n",
    "        print('%d %d%% (%s) %.4f %s / %s %s' % (epoch, epoch / n_epochs * 100, timeSince(start), loss, line, guess, correct))\n",
    "\n",
    "    # Add current loss avg to list of losses\n",
    "    if epoch % plot_every == 0:\n",
    "        all_losses.append(current_loss / plot_every)\n",
    "        current_loss = 0\n"
   ]
  },
  {
   "cell_type": "code",
   "execution_count": 100,
   "metadata": {},
   "outputs": [
    {
     "data": {
      "text/plain": [
       "[<matplotlib.lines.Line2D at 0x7fc8662fba90>]"
      ]
     },
     "execution_count": 100,
     "metadata": {},
     "output_type": "execute_result"
    },
    {
     "data": {
      "image/png": "[encoded data removed]",
      "text/plain": [
       "<matplotlib.figure.Figure at 0x7fc8662e35d0>"
      ]
     },
     "metadata": {},
     "output_type": "display_data"
    }
   ],
   "source": [
    "plt.figure()\n",
    "plt.plot(all_losses)"
   ]
  },
  {
   "cell_type": "markdown",
   "metadata": {},
   "source": [
    "Confusion matrix\n",
    "=="
   ]
  },
  {
   "cell_type": "code",
   "execution_count": 101,
   "metadata": {},
   "outputs": [
    {
     "data": {
      "image/png": "[encoded data removed]",
      "text/plain": [
       "<matplotlib.figure.Figure at 0x7fc8662fb790>"
      ]
     },
     "metadata": {},
     "output_type": "display_data"
    }
   ],
   "source": [
    "# Keep track of correct guesses in a confusion matrix\n",
    "confusion = torch.zeros(n_categories, n_categories)\n",
    "n_confusion = 10000\n",
    "\n",
    "# Just return an output given a line\n",
    "def evaluate(line_tensor):\n",
    "    hidden = rnn.initHidden()\n",
    "\n",
    "    for i in range(line_tensor.size()[0]):\n",
    "        output, hidden = rnn(line_tensor[i], hidden)\n",
    "\n",
    "    return output\n",
    "\n",
    "# Go through a bunch of examples and record which are correctly guessed\n",
    "for i in range(n_confusion):\n",
    "    category, line, category_tensor, line_tensor = randomTrainingPair()\n",
    "    output = evaluate(line_tensor)\n",
    "    guess, guess_i = categoryFromOutput(output)\n",
    "    category_i = all_categories.index(category)\n",
    "    confusion[category_i][guess_i] += 1\n",
    "\n",
    "# Normalize by dividing every row by its sum\n",
    "for i in range(n_categories):\n",
    "    confusion[i] = confusion[i] / confusion[i].sum()\n",
    "\n",
    "# Set up plot\n",
    "fig = plt.figure()\n",
    "ax = fig.add_subplot(111)\n",
    "cax = ax.matshow(confusion.numpy())\n",
    "fig.colorbar(cax)\n",
    "\n",
    "# Set up axes\n",
    "ax.set_xticklabels([''] + all_categories, rotation=90)\n",
    "ax.set_yticklabels([''] + all_categories)\n",
    "\n",
    "# Force label at every tick\n",
    "ax.xaxis.set_major_locator(ticker.MultipleLocator(1))\n",
    "ax.yaxis.set_major_locator(ticker.MultipleLocator(1))\n",
    "\n",
    "# sphinx_gallery_thumbnail_number = 2\n",
    "plt.show()"
   ]
  },
  {
   "cell_type": "markdown",
   "metadata": {},
   "source": [
    "Running on user input\n",
    "=="
   ]
  },
  {
   "cell_type": "code",
   "execution_count": 103,
   "metadata": {
    "collapsed": true
   },
   "outputs": [],
   "source": [
    "def predict(input_line, n_predictions=3):\n",
    "    print('\\n> %s' % input_line)\n",
    "    output = evaluate(Variable(lineToTensor(input_line)))\n",
    "\n",
    "    # Get top N categories\n",
    "    topv, topi = output.data.topk(n_predictions, 1, True)\n",
    "    predictions = []\n",
    "\n",
    "    for i in range(n_predictions):\n",
    "        value = topv[0][i]\n",
    "        category_index = topi[0][i]\n",
    "        print('(%.2f) %s' % (value, all_categories[category_index]))\n",
    "        predictions.append([value, all_categories[category_index]])"
   ]
  },
  {
   "cell_type": "code",
   "execution_count": 105,
   "metadata": {},
   "outputs": [
    {
     "name": "stdout",
     "output_type": "stream",
     "text": [
      "\n",
      "> Lyzhov\n",
      "(-0.02) Russian\n",
      "(-5.02) Polish\n",
      "(-5.44) English\n",
      "\n",
      "> Matsumoto\n",
      "(-0.68) Japanese\n",
      "(-0.97) Italian\n",
      "(-3.37) Spanish\n",
      "\n",
      "> Karpathy\n",
      "(-0.86) English\n",
      "(-1.68) Russian\n",
      "(-2.26) Czech\n",
      "\n",
      "> Xiangwen\n",
      "(-0.99) Irish\n",
      "(-1.21) English\n",
      "(-2.07) Russian\n",
      "\n",
      "> Zbigniew\n",
      "(-1.31) English\n",
      "(-1.38) French\n",
      "(-1.96) Russian\n"
     ]
    }
   ],
   "source": [
    "predict('Lyzhov')\n",
    "predict('Matsumoto')\n",
    "predict('Karpathy')\n",
    "predict('Xiangwen')\n",
    "predict('Zbigniew')"
   ]
  },
  {
   "cell_type": "markdown",
   "metadata": {},
   "source": [
    "Now generate names\n",
    "=="
   ]
  },
  {
   "cell_type": "markdown",
   "metadata": {},
   "source": [
    "http://pytorch.org/tutorials/intermediate/char_rnn_generation_tutorial.html"
   ]
  },
  {
   "cell_type": "code",
   "execution_count": 25,
   "metadata": {
    "collapsed": true
   },
   "outputs": [],
   "source": [
    "class GenRNN(nn.Module):\n",
    "    def __init__(self, input_size, hidden_size, output_size):\n",
    "        super(GenRNN, self).__init__()\n",
    "        self.hidden_size = hidden_size\n",
    "\n",
    "        self.i2h = nn.Linear(n_categories + input_size + hidden_size, hidden_size)\n",
    "        self.i2o = nn.Linear(n_categories + input_size + hidden_size, output_size)\n",
    "        self.o2o = nn.Linear(hidden_size + output_size, output_size)\n",
    "        self.dropout = nn.Dropout(0.1)\n",
    "        self.softmax = nn.LogSoftmax()\n",
    "\n",
    "    def forward(self, category, input, hidden):\n",
    "        input_combined = torch.cat((category, input, hidden), 1)\n",
    "        hidden = self.i2h(input_combined)\n",
    "        output = self.i2o(input_combined)\n",
    "        output_combined = torch.cat((hidden, output), 1)\n",
    "        output = self.o2o(output_combined)\n",
    "        output = self.dropout(output)\n",
    "        output = self.softmax(output)\n",
    "        return output, hidden\n",
    "\n",
    "    def initHidden(self):\n",
    "        return Variable(torch.zeros(1, self.hidden_size))"
   ]
  },
  {
   "cell_type": "code",
   "execution_count": 26,
   "metadata": {
    "collapsed": true
   },
   "outputs": [],
   "source": [
    "# Random item from a list\n",
    "def randomChoice(l):\n",
    "    return l[random.randint(0, len(l) - 1)]\n",
    "\n",
    "# Get a random category and random line from that category\n",
    "def randomTrainingPair():\n",
    "    category = randomChoice(all_categories)\n",
    "    line = randomChoice(category_lines[category])\n",
    "    return category, line\n",
    "\n",
    "# One-hot vector for category\n",
    "def categoryTensor(category):\n",
    "    li = all_categories.index(category)\n",
    "    tensor = torch.zeros(1, n_categories)\n",
    "    tensor[0][li] = 1\n",
    "    return tensor\n",
    "\n",
    "# One-hot matrix of first to last letters (not including EOS) for input\n",
    "def inputTensor(line):\n",
    "    tensor = torch.zeros(len(line), 1, n_letters)\n",
    "    for li in range(len(line)):\n",
    "        letter = line[li]\n",
    "        tensor[li][0][all_letters.find(letter)] = 1\n",
    "    return tensor\n",
    "\n",
    "# LongTensor of second letter to end (EOS) for target\n",
    "def targetTensor(line):\n",
    "    letter_indexes = [all_letters.find(line[li]) for li in range(1, len(line))]\n",
    "    letter_indexes.append(n_letters - 1) # EOS\n",
    "    return torch.LongTensor(letter_indexes)\n",
    "\n",
    "# Make category, input, and target tensors from a random category, line pair\n",
    "def randomTrainingSet():\n",
    "    category, line = randomTrainingPair()\n",
    "    category_tensor = Variable(categoryTensor(category))\n",
    "    input_line_tensor = Variable(inputTensor(line))\n",
    "    target_line_tensor = Variable(targetTensor(line))\n",
    "    return category_tensor, input_line_tensor, target_line_tensor"
   ]
  },
  {
   "cell_type": "markdown",
   "metadata": {},
   "source": [
    "Training\n",
    "=="
   ]
  },
  {
   "cell_type": "code",
   "execution_count": 27,
   "metadata": {
    "collapsed": true
   },
   "outputs": [],
   "source": [
    "def gen_train_step(category_tensor, input_line_tensor, target_line_tensor):\n",
    "    criterion = nn.NLLLoss()\n",
    "\n",
    "    learning_rate = 0.0005\n",
    "\n",
    "    hidden = rnn.initHidden()\n",
    "\n",
    "    rnn.zero_grad()\n",
    "\n",
    "    loss = 0\n",
    "\n",
    "    for i in range(input_line_tensor.size()[0]):\n",
    "        output, hidden = rnn(category_tensor, input_line_tensor[i], hidden)\n",
    "        loss += criterion(output, target_line_tensor[i])\n",
    "\n",
    "    loss.backward() # backward on the summed up loss!\n",
    "\n",
    "    for p in rnn.parameters():\n",
    "        p.data.add_(-learning_rate, p.grad.data)\n",
    "\n",
    "    return output, loss.data[0] / input_line_tensor.size()[0]"
   ]
  },
  {
   "cell_type": "code",
   "execution_count": 29,
   "metadata": {},
   "outputs": [
    {
     "name": "stdout",
     "output_type": "stream",
     "text": [
      "1m 0s (1000 0%) 3.2038\n",
      "1m 52s (2000 0%) 2.7367\n",
      "2m 19s (3000 0%) 2.6760\n",
      "2m 27s (4000 0%) 2.9729\n",
      "2m 38s (5000 0%) 2.7696\n",
      "2m 47s (6000 0%) 2.5047\n",
      "2m 58s (7000 0%) 2.6386\n",
      "3m 11s (8000 0%) 2.7022\n",
      "3m 29s (9000 0%) 2.9435\n",
      "3m 45s (10000 0%) 2.2623\n",
      "4m 0s (11000 0%) 3.6311\n",
      "4m 13s (12000 0%) 2.6170\n",
      "4m 27s (13000 0%) 3.5452\n",
      "4m 40s (14000 0%) 2.7103\n",
      "4m 52s (15000 0%) 2.4344\n",
      "5m 3s (16000 0%) 2.5617\n",
      "5m 14s (17000 0%) 2.9532\n",
      "5m 25s (18000 0%) 2.4964\n",
      "5m 35s (19000 0%) 3.1631\n",
      "5m 43s (20000 0%) 2.4919\n",
      "5m 53s (21000 0%) 3.5670\n",
      "6m 4s (22000 0%) 2.2791\n",
      "6m 13s (23000 0%) 2.2071\n",
      "6m 22s (24000 0%) 2.1387\n",
      "6m 31s (25000 0%) 2.3213\n",
      "6m 42s (26000 0%) 2.4398\n",
      "6m 52s (27000 0%) 2.7139\n",
      "7m 6s (28000 0%) 2.6173\n",
      "7m 18s (29000 0%) 2.1321\n",
      "7m 28s (30000 0%) 2.2956\n",
      "7m 38s (31000 0%) 3.0828\n",
      "7m 47s (32000 0%) 2.8876\n",
      "7m 56s (33000 0%) 2.0511\n",
      "8m 5s (34000 0%) 1.9470\n",
      "8m 13s (35000 0%) 1.6381\n",
      "8m 22s (36000 0%) 2.0790\n",
      "8m 32s (37000 0%) 2.5706\n",
      "8m 43s (38000 0%) 2.4973\n",
      "8m 51s (39000 0%) 2.5001\n",
      "9m 1s (40000 0%) 3.0091\n",
      "9m 11s (41000 0%) 3.5412\n",
      "9m 20s (42000 0%) 2.6429\n",
      "9m 29s (43000 0%) 2.4100\n",
      "9m 39s (44000 0%) 2.0056\n",
      "9m 49s (45000 0%) 2.3060\n",
      "9m 58s (46000 0%) 2.1288\n",
      "10m 10s (47000 0%) 3.2787\n",
      "10m 23s (48000 0%) 2.8969\n",
      "10m 38s (49000 0%) 1.6850\n",
      "10m 50s (50000 0%) 2.3299\n",
      "10m 58s (51000 0%) 2.2714\n",
      "11m 7s (52000 0%) 1.9992\n",
      "11m 17s (53000 0%) 3.5661\n",
      "11m 26s (54000 0%) 2.5573\n",
      "11m 36s (55000 0%) 1.9280\n",
      "11m 45s (56000 0%) 2.3229\n",
      "11m 54s (57000 0%) 2.6715\n",
      "12m 2s (58000 0%) 3.0178\n",
      "12m 12s (59000 0%) 2.6588\n",
      "12m 21s (60000 0%) 2.4347\n",
      "12m 32s (61000 0%) 2.1761\n",
      "12m 40s (62000 0%) 1.7598\n",
      "12m 51s (63000 0%) 2.3605\n",
      "13m 0s (64000 0%) 2.8773\n",
      "13m 8s (65000 0%) 1.9098\n",
      "13m 17s (66000 0%) 1.9534\n",
      "13m 26s (67000 0%) 3.0463\n",
      "13m 36s (68000 0%) 2.0915\n",
      "13m 45s (69000 0%) 2.2365\n",
      "13m 52s (70000 0%) 3.0443\n",
      "14m 1s (71000 0%) 2.5474\n",
      "14m 10s (72000 0%) 2.1629\n",
      "14m 19s (73000 0%) 1.0697\n",
      "14m 30s (74000 0%) 2.0508\n",
      "14m 40s (75000 0%) 2.3732\n",
      "14m 50s (76000 0%) 2.1655\n",
      "14m 59s (77000 0%) 1.8522\n",
      "15m 9s (78000 0%) 2.2855\n",
      "15m 18s (79000 0%) 2.5633\n",
      "15m 26s (80000 0%) 2.2796\n",
      "15m 35s (81000 0%) 2.4132\n",
      "15m 46s (82000 0%) 1.3490\n",
      "15m 55s (83000 0%) 2.1579\n",
      "16m 5s (84000 0%) 2.5720\n",
      "16m 15s (85000 0%) 2.1608\n",
      "16m 25s (86000 0%) 1.8260\n",
      "16m 36s (87000 0%) 3.3594\n",
      "16m 45s (88000 0%) 2.6467\n",
      "16m 54s (89000 0%) 3.7837\n",
      "17m 2s (90000 0%) 2.4507\n",
      "17m 10s (91000 0%) 2.3614\n",
      "17m 20s (92000 0%) 1.7393\n",
      "17m 29s (93000 0%) 2.2792\n",
      "17m 40s (94000 0%) 3.0179\n",
      "17m 49s (95000 0%) 1.9199\n",
      "17m 59s (96000 0%) 2.6318\n",
      "18m 9s (97000 0%) 3.2645\n",
      "18m 18s (98000 0%) 3.2188\n",
      "18m 27s (99000 0%) 2.0968\n",
      "18m 36s (100000 100%) 2.2943\n"
     ]
    }
   ],
   "source": [
    "rnn = GenRNN(n_letters, 128, n_letters) # hidden_state_size == 128\n",
    "\n",
    "n_epochs = 100000\n",
    "print_every = 1000\n",
    "plot_every = 1000\n",
    "all_losses = []\n",
    "total_loss = 0 # Reset every plot_every epochs\n",
    "\n",
    "start = time.time()\n",
    "\n",
    "for epoch in range(1, n_epochs + 1):\n",
    "    output, loss = gen_train_step(*randomTrainingSet())\n",
    "    total_loss += loss\n",
    "\n",
    "    if epoch % print_every == 0:\n",
    "        print('%s (%d %d%%) %.4f' % (timeSince(start), epoch, epoch / n_epochs * 100, loss))\n",
    "\n",
    "    if epoch % plot_every == 0:\n",
    "        all_losses.append(total_loss / plot_every)\n",
    "        total_loss = 0"
   ]
  },
  {
   "cell_type": "code",
   "execution_count": 31,
   "metadata": {},
   "outputs": [
    {
     "data": {
      "text/plain": [
       "[<matplotlib.lines.Line2D at 0x7f8c5dae8dd0>]"
      ]
     },
     "execution_count": 31,
     "metadata": {},
     "output_type": "execute_result"
    },
    {
     "data": {
      "image/png": "[encoded data removed]",
      "text/plain": [
       "<matplotlib.figure.Figure at 0x7f8c700e0150>"
      ]
     },
     "metadata": {},
     "output_type": "display_data"
    }
   ],
   "source": [
    "plt.figure()\n",
    "plt.plot(all_losses)"
   ]
  },
  {
   "cell_type": "code",
   "execution_count": 35,
   "metadata": {},
   "outputs": [],
   "source": [
    "torch.save(rnn.state_dict(), 'genrnn')"
   ]
  },
  {
   "cell_type": "markdown",
   "metadata": {},
   "source": [
    "Sampling\n",
    "=="
   ]
  },
  {
   "cell_type": "code",
   "execution_count": 36,
   "metadata": {
    "collapsed": true
   },
   "outputs": [],
   "source": [
    "max_length = 20"
   ]
  },
  {
   "cell_type": "code",
   "execution_count": 37,
   "metadata": {
    "collapsed": true
   },
   "outputs": [],
   "source": [
    "# Sample from a category and starting letter\n",
    "def sample(category, start_letter='A'):\n",
    "    category_tensor = Variable(categoryTensor(category))\n",
    "    input = Variable(inputTensor(start_letter))\n",
    "    hidden = rnn.initHidden()\n",
    "\n",
    "    output_name = start_letter\n",
    "\n",
    "    for i in range(max_length):\n",
    "        output, hidden = rnn(category_tensor, input[0], hidden)\n",
    "        topv, topi = output.data.topk(1)\n",
    "        topi = topi[0][0]\n",
    "        if topi == n_letters - 1:\n",
    "            break\n",
    "        else:\n",
    "            letter = all_letters[topi]\n",
    "            output_name += letter\n",
    "        input = Variable(inputTensor(letter))\n",
    "\n",
    "    return output_name"
   ]
  },
  {
   "cell_type": "code",
   "execution_count": 38,
   "metadata": {
    "collapsed": true
   },
   "outputs": [],
   "source": [
    "# Get multiple samples from one category and multiple starting letters\n",
    "def samples(category, start_letters='ABC'):\n",
    "    for start_letter in start_letters:\n",
    "        print(sample(category, start_letter))"
   ]
  },
  {
   "cell_type": "code",
   "execution_count": 43,
   "metadata": {},
   "outputs": [
    {
     "name": "stdout",
     "output_type": "stream",
     "text": [
      "Lanevan\n",
      "Zanevev\n",
      "Allanev\n"
     ]
    }
   ],
   "source": [
    "samples('Russian', 'LZA')"
   ]
  },
  {
   "cell_type": "code",
   "execution_count": 44,
   "metadata": {},
   "outputs": [
    {
     "name": "stdout",
     "output_type": "stream",
     "text": [
      "La\n",
      "Zha\n",
      "Aun\n"
     ]
    }
   ],
   "source": [
    "samples('Chinese', 'LZA')"
   ]
  },
  {
   "cell_type": "code",
   "execution_count": 45,
   "metadata": {},
   "outputs": [
    {
     "name": "stdout",
     "output_type": "stream",
     "text": [
      "Losen\n",
      "Zonek\n",
      "Allon\n"
     ]
    }
   ],
   "source": [
    "samples('Polish', 'LZA')"
   ]
  },
  {
   "cell_type": "code",
   "execution_count": 47,
   "metadata": {},
   "outputs": [
    {
     "name": "stdout",
     "output_type": "stream",
     "text": [
      "Pangan\n",
      "Sangan\n",
      "Tongal\n",
      "Iingan\n",
      "Sangan\n",
      "Tanan\n",
      "Vangan\n",
      "Kangen\n",
      "Uonan\n"
     ]
    }
   ],
   "source": [
    "samples('Irish', 'PSTISTVKU')"
   ]
  },
  {
   "cell_type": "markdown",
   "metadata": {},
   "source": [
    "Exercises\n",
    "==\n",
    "\n",
    "Classification\n",
    "\n",
    "    Try with a different dataset of line -> category, for example:\n",
    "        Any word -> language\n",
    "        First name -> gender\n",
    "        Character name -> writer\n",
    "        Page title -> blog or subreddit\n",
    "    Get better results with a bigger and/or better shaped network\n",
    "        Add more linear layers\n",
    "        Try the nn.LSTM and nn.GRU layers\n",
    "        Combine multiple of these RNNs as a higher level network\n",
    "\n",
    "Generative\n",
    "\n",
    "    Try with a different dataset of category -> line, for example:\n",
    "        Fictional series -> Character name\n",
    "        Part of speech -> Word\n",
    "        Country -> City\n",
    "    Use a “start of sentence” token so that sampling can be done without choosing a start letter\n",
    "    Get better results with a bigger and/or better shaped network\n",
    "        Try the nn.LSTM and nn.GRU layers\n",
    "        Combine multiple of these RNNs as a higher level network"
   ]
  },
  {
   "cell_type": "code",
   "execution_count": null,
   "metadata": {
    "collapsed": true
   },
   "outputs": [],
   "source": []
  }
 ],
 "metadata": {
  "kernelspec": {
   "display_name": "Python 2",
   "language": "python2",
   "name": "python2"
  }
 },
 "nbformat": 4,
 "nbformat_minor": 2
}
